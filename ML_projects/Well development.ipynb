{
 "cells": [
  {
   "cell_type": "markdown",
   "id": "9cd56fcf-3f17-4f82-b3d1-2e239123acbb",
   "metadata": {},
   "source": [
    "# Описание проекта"
   ]
  },
  {
   "cell_type": "markdown",
   "id": "566e023f-36e2-4ba3-ba2a-07da9f1cb596",
   "metadata": {},
   "source": [
    "Добывающей компании «ГлавРосГосНефть» нужно решить, где бурить новую скважину.\n",
    "\n",
    "Шаги для выбора локации обычно такие:\n",
    "- В избранном регионе собирают характеристики для скважин: качество нефти и объём её запасов;\n",
    "- Строят модель для предсказания объёма запасов в новых скважинах;\n",
    "- Выбирают скважины с самыми высокими оценками значений;\n",
    "- Определяют регион с максимальной суммарной прибылью отобранных скважин.\n",
    "\n",
    "Предоставлены пробы нефти в трёх регионах. Характеристики для каждой скважины в регионе уже известны. Постройте модель для определения региона, где добыча принесёт наибольшую прибыль. Проанализируйте возможную прибыль и риски техникой Bootstrap."
   ]
  },
  {
   "cell_type": "markdown",
   "id": "82c1602f-5e45-4d76-85b7-5030ccd2e335",
   "metadata": {},
   "source": [
    "# Условия задачи"
   ]
  },
  {
   "cell_type": "markdown",
   "id": "899c429d-e9e2-49b4-b8e8-03c3493c1c66",
   "metadata": {
    "tags": []
   },
   "source": [
    "Для обучения модели подходит только линейная регрессия (остальные — недостаточно предсказуемые).\n",
    "\n",
    "- При разведке региона исследуют 500 точек, из которых с помощью машинного обучения выбирают 200 лучших для разработки.\n",
    "- Бюджет на разработку скважин в регионе — 10 млрд рублей.\n",
    "- При нынешних ценах один баррель сырья приносит 450 рублей дохода. Доход с каждой единицы продукта составляет 450 тыс. рублей, поскольку объём указан в тысячах баррелей.\n",
    "- После оценки рисков нужно оставить лишь те регионы, в которых вероятность убытков меньше 2.5%. Среди них выбирают регион с наибольшей средней прибылью.\n",
    "\n",
    "1 единица продукта - 1000 баррелей\n",
    "\n",
    "Данные синтетические: детали контрактов и характеристики месторождений не разглашаются."
   ]
  },
  {
   "cell_type": "code",
   "execution_count": 35,
   "id": "9a672b0c-0e9c-41e8-bcda-146174f8956c",
   "metadata": {
    "tags": []
   },
   "outputs": [],
   "source": [
    "def data_frame_check(a1,a2,a3):\n",
    "    list_df = [a1,a2,a3]\n",
    "    count=0\n",
    "    for i in list_df:\n",
    "        count += 1\n",
    "        print(f'\\033[1mПервые пять строк датафрейма региона {count}\\033[0m')\n",
    "        display(i)\n",
    "        print()\n",
    "        print(f'\\033[1mПропуски датафрейма региона {count}\\033[0m')\n",
    "        print(i.isna().sum())\n",
    "        print()\n",
    "        print(f'\\033[1mДубли датафрейма региона {count}\\033[0m')\n",
    "        print(i.duplicated().sum())\n",
    "        print()\n",
    "        print(f'\\033[1mОписание величин региона {count}\\033[0m')\n",
    "        print(i.describe())\n",
    "        print(f'\\033[1mВсего строк в датафрейме региона {count}: {len(i)}, а у никальных id: {i.id.nunique()}\\033[0m')\n",
    "        print(\"\\n\" + \"=\" * 50 + \"\\n\")\n",
    "        \n",
    "        "
   ]
  },
  {
   "cell_type": "code",
   "execution_count": 186,
   "id": "8963a81a-f072-4114-a312-17d16cf8df7c",
   "metadata": {
    "tags": []
   },
   "outputs": [],
   "source": [
    "def ridge_learning(X_train,y_train):\n",
    "    alpha_coef = [0.001,0.01,0.1,0.5,1,1.5,2,4,5,7,10]\n",
    "    res_list = []\n",
    "    i_list = []\n",
    "    df_res=pd.DataFrame()\n",
    "    for i in tqdm(alpha_coef):\n",
    "        model = Ridge(alpha=i, random_state = RANDOM_STATE)\n",
    "        res_avg = np.mean(cross_val_score(model, X_train, y_train, cv=5))\n",
    "\n",
    "        res_list.append(res_avg)\n",
    "        i_list.append(i)\n",
    "\n",
    "    df_res = pd.DataFrame({'r2':res_list,'alpha':i_list})\n",
    "\n",
    "    return df_res\n",
    "\n",
    "def linear_learning(X_train,y_train):\n",
    "    #alpha_coef = [0.001,0.01,0.1,0.5,1,1.5,2,4,5,7,10]\n",
    "    res_list = []\n",
    "    i_list = []\n",
    "    df_res=pd.DataFrame()\n",
    "    #for i in tqdm(alpha_coef):\n",
    "    model = LinearRegression()\n",
    "    res_avg = np.mean(cross_val_score(model, X_train, y_train, cv=5))\n",
    "\n",
    "    res_list.append(res_avg)\n",
    "    i_list.append('lin_reg')\n",
    "\n",
    "    df_res = pd.DataFrame({'r2':res_list,'model':i_list})\n",
    "\n",
    "    return df_res\n",
    "\n",
    "def lasso_learning(X_train,y_train):\n",
    "    alpha_coef = [0.001,0.01,0.1,0.5,1,1.5,2,4,5,7,10]\n",
    "    res_list = []\n",
    "    i_list = []\n",
    "    df_res=pd.DataFrame()\n",
    "    for i in tqdm(alpha_coef):\n",
    "        model = Lasso(alpha=i, random_state = RANDOM_STATE)\n",
    "        res_avg = np.mean(cross_val_score(model, X_train, y_train, cv=5))\n",
    "\n",
    "        res_list.append(res_avg)\n",
    "        i_list.append(i)\n",
    "\n",
    "    df_res = pd.DataFrame({'r2':res_list,'alpha':i_list})\n",
    "\n",
    "    return df_res"
   ]
  },
  {
   "cell_type": "markdown",
   "id": "c2f0c1bf-624f-4df4-a449-a1256eecd4ba",
   "metadata": {},
   "source": [
    "# Импортируем нужные библиотеки"
   ]
  },
  {
   "cell_type": "code",
   "execution_count": 192,
   "id": "70068a8c-7efb-4e77-903e-d70d6747f6e1",
   "metadata": {
    "tags": []
   },
   "outputs": [],
   "source": [
    "import pandas as pd\n",
    "import seaborn as sns\n",
    "from sklearn.linear_model import LinearRegression, Lasso, Ridge\n",
    "from sklearn.model_selection import train_test_split\n",
    "from sklearn.model_selection import cross_val_score\n",
    "import numpy as np\n",
    "from matplotlib import pyplot as plt\n",
    "from tqdm.notebook import trange, tqdm\n",
    "import warnings\n",
    "from sklearn.metrics import r2_score\n",
    "from sklearn.metrics import mean_squared_error\n",
    "\n",
    "\n",
    "RANDOM_STATE = 12345\n",
    "warnings.filterwarnings(\"ignore\")\n"
   ]
  },
  {
   "cell_type": "markdown",
   "id": "75bb374f-2bae-457b-ad2f-aa87a175e50b",
   "metadata": {},
   "source": [
    "# Загрузка и изучение данных"
   ]
  },
  {
   "cell_type": "code",
   "execution_count": 37,
   "id": "35b884b6-9ee5-4c0a-a215-ec42d2e9c869",
   "metadata": {
    "tags": []
   },
   "outputs": [],
   "source": [
    "borehole_1 = pd.read_csv('geo_data_0.csv')\n",
    "borehole_2 = pd.read_csv('geo_data_1.csv')\n",
    "borehole_3 = pd.read_csv('geo_data_2.csv')"
   ]
  },
  {
   "cell_type": "markdown",
   "id": "db7471e0-af72-4417-9d9c-c4b1d6e0b6b4",
   "metadata": {},
   "source": [
    "## Общие сведения о датафреймах"
   ]
  },
  {
   "cell_type": "code",
   "execution_count": 38,
   "id": "50950a3a-b7be-418c-b845-a159e60809bd",
   "metadata": {
    "tags": []
   },
   "outputs": [
    {
     "name": "stdout",
     "output_type": "stream",
     "text": [
      "\u001b[1mПервые пять строк датафрейма региона 1\u001b[0m\n"
     ]
    },
    {
     "data": {
      "text/html": [
       "<div>\n",
       "<style scoped>\n",
       "    .dataframe tbody tr th:only-of-type {\n",
       "        vertical-align: middle;\n",
       "    }\n",
       "\n",
       "    .dataframe tbody tr th {\n",
       "        vertical-align: top;\n",
       "    }\n",
       "\n",
       "    .dataframe thead th {\n",
       "        text-align: right;\n",
       "    }\n",
       "</style>\n",
       "<table border=\"1\" class=\"dataframe\">\n",
       "  <thead>\n",
       "    <tr style=\"text-align: right;\">\n",
       "      <th></th>\n",
       "      <th>id</th>\n",
       "      <th>f0</th>\n",
       "      <th>f1</th>\n",
       "      <th>f2</th>\n",
       "      <th>product</th>\n",
       "    </tr>\n",
       "  </thead>\n",
       "  <tbody>\n",
       "    <tr>\n",
       "      <th>0</th>\n",
       "      <td>txEyH</td>\n",
       "      <td>0.705745</td>\n",
       "      <td>-0.497823</td>\n",
       "      <td>1.221170</td>\n",
       "      <td>105.280062</td>\n",
       "    </tr>\n",
       "    <tr>\n",
       "      <th>1</th>\n",
       "      <td>2acmU</td>\n",
       "      <td>1.334711</td>\n",
       "      <td>-0.340164</td>\n",
       "      <td>4.365080</td>\n",
       "      <td>73.037750</td>\n",
       "    </tr>\n",
       "    <tr>\n",
       "      <th>2</th>\n",
       "      <td>409Wp</td>\n",
       "      <td>1.022732</td>\n",
       "      <td>0.151990</td>\n",
       "      <td>1.419926</td>\n",
       "      <td>85.265647</td>\n",
       "    </tr>\n",
       "    <tr>\n",
       "      <th>3</th>\n",
       "      <td>iJLyR</td>\n",
       "      <td>-0.032172</td>\n",
       "      <td>0.139033</td>\n",
       "      <td>2.978566</td>\n",
       "      <td>168.620776</td>\n",
       "    </tr>\n",
       "    <tr>\n",
       "      <th>4</th>\n",
       "      <td>Xdl7t</td>\n",
       "      <td>1.988431</td>\n",
       "      <td>0.155413</td>\n",
       "      <td>4.751769</td>\n",
       "      <td>154.036647</td>\n",
       "    </tr>\n",
       "    <tr>\n",
       "      <th>...</th>\n",
       "      <td>...</td>\n",
       "      <td>...</td>\n",
       "      <td>...</td>\n",
       "      <td>...</td>\n",
       "      <td>...</td>\n",
       "    </tr>\n",
       "    <tr>\n",
       "      <th>99995</th>\n",
       "      <td>DLsed</td>\n",
       "      <td>0.971957</td>\n",
       "      <td>0.370953</td>\n",
       "      <td>6.075346</td>\n",
       "      <td>110.744026</td>\n",
       "    </tr>\n",
       "    <tr>\n",
       "      <th>99996</th>\n",
       "      <td>QKivN</td>\n",
       "      <td>1.392429</td>\n",
       "      <td>-0.382606</td>\n",
       "      <td>1.273912</td>\n",
       "      <td>122.346843</td>\n",
       "    </tr>\n",
       "    <tr>\n",
       "      <th>99997</th>\n",
       "      <td>3rnvd</td>\n",
       "      <td>1.029585</td>\n",
       "      <td>0.018787</td>\n",
       "      <td>-1.348308</td>\n",
       "      <td>64.375443</td>\n",
       "    </tr>\n",
       "    <tr>\n",
       "      <th>99998</th>\n",
       "      <td>7kl59</td>\n",
       "      <td>0.998163</td>\n",
       "      <td>-0.528582</td>\n",
       "      <td>1.583869</td>\n",
       "      <td>74.040764</td>\n",
       "    </tr>\n",
       "    <tr>\n",
       "      <th>99999</th>\n",
       "      <td>1CWhH</td>\n",
       "      <td>1.764754</td>\n",
       "      <td>-0.266417</td>\n",
       "      <td>5.722849</td>\n",
       "      <td>149.633246</td>\n",
       "    </tr>\n",
       "  </tbody>\n",
       "</table>\n",
       "<p>100000 rows × 5 columns</p>\n",
       "</div>"
      ],
      "text/plain": [
       "          id        f0        f1        f2     product\n",
       "0      txEyH  0.705745 -0.497823  1.221170  105.280062\n",
       "1      2acmU  1.334711 -0.340164  4.365080   73.037750\n",
       "2      409Wp  1.022732  0.151990  1.419926   85.265647\n",
       "3      iJLyR -0.032172  0.139033  2.978566  168.620776\n",
       "4      Xdl7t  1.988431  0.155413  4.751769  154.036647\n",
       "...      ...       ...       ...       ...         ...\n",
       "99995  DLsed  0.971957  0.370953  6.075346  110.744026\n",
       "99996  QKivN  1.392429 -0.382606  1.273912  122.346843\n",
       "99997  3rnvd  1.029585  0.018787 -1.348308   64.375443\n",
       "99998  7kl59  0.998163 -0.528582  1.583869   74.040764\n",
       "99999  1CWhH  1.764754 -0.266417  5.722849  149.633246\n",
       "\n",
       "[100000 rows x 5 columns]"
      ]
     },
     "metadata": {},
     "output_type": "display_data"
    },
    {
     "name": "stdout",
     "output_type": "stream",
     "text": [
      "\n",
      "\u001b[1mПропуски датафрейма региона 1\u001b[0m\n",
      "id         0\n",
      "f0         0\n",
      "f1         0\n",
      "f2         0\n",
      "product    0\n",
      "dtype: int64\n",
      "\n",
      "\u001b[1mДубли датафрейма региона 1\u001b[0m\n",
      "0\n",
      "\n",
      "\u001b[1mОписание величин региона 1\u001b[0m\n",
      "                  f0             f1             f2        product\n",
      "count  100000.000000  100000.000000  100000.000000  100000.000000\n",
      "mean        0.500419       0.250143       2.502647      92.500000\n",
      "std         0.871832       0.504433       3.248248      44.288691\n",
      "min        -1.408605      -0.848218     -12.088328       0.000000\n",
      "25%        -0.072580      -0.200881       0.287748      56.497507\n",
      "50%         0.502360       0.250252       2.515969      91.849972\n",
      "75%         1.073581       0.700646       4.715088     128.564089\n",
      "max         2.362331       1.343769      16.003790     185.364347\n",
      "\u001b[1mВсего строк в датафрейме региона 1: 100000, а у никальных id: 99990\u001b[0m\n",
      "\n",
      "==================================================\n",
      "\n",
      "\u001b[1mПервые пять строк датафрейма региона 2\u001b[0m\n"
     ]
    },
    {
     "data": {
      "text/html": [
       "<div>\n",
       "<style scoped>\n",
       "    .dataframe tbody tr th:only-of-type {\n",
       "        vertical-align: middle;\n",
       "    }\n",
       "\n",
       "    .dataframe tbody tr th {\n",
       "        vertical-align: top;\n",
       "    }\n",
       "\n",
       "    .dataframe thead th {\n",
       "        text-align: right;\n",
       "    }\n",
       "</style>\n",
       "<table border=\"1\" class=\"dataframe\">\n",
       "  <thead>\n",
       "    <tr style=\"text-align: right;\">\n",
       "      <th></th>\n",
       "      <th>id</th>\n",
       "      <th>f0</th>\n",
       "      <th>f1</th>\n",
       "      <th>f2</th>\n",
       "      <th>product</th>\n",
       "    </tr>\n",
       "  </thead>\n",
       "  <tbody>\n",
       "    <tr>\n",
       "      <th>0</th>\n",
       "      <td>kBEdx</td>\n",
       "      <td>-15.001348</td>\n",
       "      <td>-8.276000</td>\n",
       "      <td>-0.005876</td>\n",
       "      <td>3.179103</td>\n",
       "    </tr>\n",
       "    <tr>\n",
       "      <th>1</th>\n",
       "      <td>62mP7</td>\n",
       "      <td>14.272088</td>\n",
       "      <td>-3.475083</td>\n",
       "      <td>0.999183</td>\n",
       "      <td>26.953261</td>\n",
       "    </tr>\n",
       "    <tr>\n",
       "      <th>2</th>\n",
       "      <td>vyE1P</td>\n",
       "      <td>6.263187</td>\n",
       "      <td>-5.948386</td>\n",
       "      <td>5.001160</td>\n",
       "      <td>134.766305</td>\n",
       "    </tr>\n",
       "    <tr>\n",
       "      <th>3</th>\n",
       "      <td>KcrkZ</td>\n",
       "      <td>-13.081196</td>\n",
       "      <td>-11.506057</td>\n",
       "      <td>4.999415</td>\n",
       "      <td>137.945408</td>\n",
       "    </tr>\n",
       "    <tr>\n",
       "      <th>4</th>\n",
       "      <td>AHL4O</td>\n",
       "      <td>12.702195</td>\n",
       "      <td>-8.147433</td>\n",
       "      <td>5.004363</td>\n",
       "      <td>134.766305</td>\n",
       "    </tr>\n",
       "    <tr>\n",
       "      <th>...</th>\n",
       "      <td>...</td>\n",
       "      <td>...</td>\n",
       "      <td>...</td>\n",
       "      <td>...</td>\n",
       "      <td>...</td>\n",
       "    </tr>\n",
       "    <tr>\n",
       "      <th>99995</th>\n",
       "      <td>QywKC</td>\n",
       "      <td>9.535637</td>\n",
       "      <td>-6.878139</td>\n",
       "      <td>1.998296</td>\n",
       "      <td>53.906522</td>\n",
       "    </tr>\n",
       "    <tr>\n",
       "      <th>99996</th>\n",
       "      <td>ptvty</td>\n",
       "      <td>-10.160631</td>\n",
       "      <td>-12.558096</td>\n",
       "      <td>5.005581</td>\n",
       "      <td>137.945408</td>\n",
       "    </tr>\n",
       "    <tr>\n",
       "      <th>99997</th>\n",
       "      <td>09gWa</td>\n",
       "      <td>-7.378891</td>\n",
       "      <td>-3.084104</td>\n",
       "      <td>4.998651</td>\n",
       "      <td>137.945408</td>\n",
       "    </tr>\n",
       "    <tr>\n",
       "      <th>99998</th>\n",
       "      <td>rqwUm</td>\n",
       "      <td>0.665714</td>\n",
       "      <td>-6.152593</td>\n",
       "      <td>1.000146</td>\n",
       "      <td>30.132364</td>\n",
       "    </tr>\n",
       "    <tr>\n",
       "      <th>99999</th>\n",
       "      <td>relB0</td>\n",
       "      <td>-3.426139</td>\n",
       "      <td>-7.794274</td>\n",
       "      <td>-0.003299</td>\n",
       "      <td>3.179103</td>\n",
       "    </tr>\n",
       "  </tbody>\n",
       "</table>\n",
       "<p>100000 rows × 5 columns</p>\n",
       "</div>"
      ],
      "text/plain": [
       "          id         f0         f1        f2     product\n",
       "0      kBEdx -15.001348  -8.276000 -0.005876    3.179103\n",
       "1      62mP7  14.272088  -3.475083  0.999183   26.953261\n",
       "2      vyE1P   6.263187  -5.948386  5.001160  134.766305\n",
       "3      KcrkZ -13.081196 -11.506057  4.999415  137.945408\n",
       "4      AHL4O  12.702195  -8.147433  5.004363  134.766305\n",
       "...      ...        ...        ...       ...         ...\n",
       "99995  QywKC   9.535637  -6.878139  1.998296   53.906522\n",
       "99996  ptvty -10.160631 -12.558096  5.005581  137.945408\n",
       "99997  09gWa  -7.378891  -3.084104  4.998651  137.945408\n",
       "99998  rqwUm   0.665714  -6.152593  1.000146   30.132364\n",
       "99999  relB0  -3.426139  -7.794274 -0.003299    3.179103\n",
       "\n",
       "[100000 rows x 5 columns]"
      ]
     },
     "metadata": {},
     "output_type": "display_data"
    },
    {
     "name": "stdout",
     "output_type": "stream",
     "text": [
      "\n",
      "\u001b[1mПропуски датафрейма региона 2\u001b[0m\n",
      "id         0\n",
      "f0         0\n",
      "f1         0\n",
      "f2         0\n",
      "product    0\n",
      "dtype: int64\n",
      "\n",
      "\u001b[1mДубли датафрейма региона 2\u001b[0m\n",
      "0\n",
      "\n",
      "\u001b[1mОписание величин региона 2\u001b[0m\n",
      "                  f0             f1             f2        product\n",
      "count  100000.000000  100000.000000  100000.000000  100000.000000\n",
      "mean        1.141296      -4.796579       2.494541      68.825000\n",
      "std         8.965932       5.119872       1.703572      45.944423\n",
      "min       -31.609576     -26.358598      -0.018144       0.000000\n",
      "25%        -6.298551      -8.267985       1.000021      26.953261\n",
      "50%         1.153055      -4.813172       2.011479      57.085625\n",
      "75%         8.621015      -1.332816       3.999904     107.813044\n",
      "max        29.421755      18.734063       5.019721     137.945408\n",
      "\u001b[1mВсего строк в датафрейме региона 2: 100000, а у никальных id: 99996\u001b[0m\n",
      "\n",
      "==================================================\n",
      "\n",
      "\u001b[1mПервые пять строк датафрейма региона 3\u001b[0m\n"
     ]
    },
    {
     "data": {
      "text/html": [
       "<div>\n",
       "<style scoped>\n",
       "    .dataframe tbody tr th:only-of-type {\n",
       "        vertical-align: middle;\n",
       "    }\n",
       "\n",
       "    .dataframe tbody tr th {\n",
       "        vertical-align: top;\n",
       "    }\n",
       "\n",
       "    .dataframe thead th {\n",
       "        text-align: right;\n",
       "    }\n",
       "</style>\n",
       "<table border=\"1\" class=\"dataframe\">\n",
       "  <thead>\n",
       "    <tr style=\"text-align: right;\">\n",
       "      <th></th>\n",
       "      <th>id</th>\n",
       "      <th>f0</th>\n",
       "      <th>f1</th>\n",
       "      <th>f2</th>\n",
       "      <th>product</th>\n",
       "    </tr>\n",
       "  </thead>\n",
       "  <tbody>\n",
       "    <tr>\n",
       "      <th>0</th>\n",
       "      <td>fwXo0</td>\n",
       "      <td>-1.146987</td>\n",
       "      <td>0.963328</td>\n",
       "      <td>-0.828965</td>\n",
       "      <td>27.758673</td>\n",
       "    </tr>\n",
       "    <tr>\n",
       "      <th>1</th>\n",
       "      <td>WJtFt</td>\n",
       "      <td>0.262778</td>\n",
       "      <td>0.269839</td>\n",
       "      <td>-2.530187</td>\n",
       "      <td>56.069697</td>\n",
       "    </tr>\n",
       "    <tr>\n",
       "      <th>2</th>\n",
       "      <td>ovLUW</td>\n",
       "      <td>0.194587</td>\n",
       "      <td>0.289035</td>\n",
       "      <td>-5.586433</td>\n",
       "      <td>62.871910</td>\n",
       "    </tr>\n",
       "    <tr>\n",
       "      <th>3</th>\n",
       "      <td>q6cA6</td>\n",
       "      <td>2.236060</td>\n",
       "      <td>-0.553760</td>\n",
       "      <td>0.930038</td>\n",
       "      <td>114.572842</td>\n",
       "    </tr>\n",
       "    <tr>\n",
       "      <th>4</th>\n",
       "      <td>WPMUX</td>\n",
       "      <td>-0.515993</td>\n",
       "      <td>1.716266</td>\n",
       "      <td>5.899011</td>\n",
       "      <td>149.600746</td>\n",
       "    </tr>\n",
       "    <tr>\n",
       "      <th>...</th>\n",
       "      <td>...</td>\n",
       "      <td>...</td>\n",
       "      <td>...</td>\n",
       "      <td>...</td>\n",
       "      <td>...</td>\n",
       "    </tr>\n",
       "    <tr>\n",
       "      <th>99995</th>\n",
       "      <td>4GxBu</td>\n",
       "      <td>-1.777037</td>\n",
       "      <td>1.125220</td>\n",
       "      <td>6.263374</td>\n",
       "      <td>172.327046</td>\n",
       "    </tr>\n",
       "    <tr>\n",
       "      <th>99996</th>\n",
       "      <td>YKFjq</td>\n",
       "      <td>-1.261523</td>\n",
       "      <td>-0.894828</td>\n",
       "      <td>2.524545</td>\n",
       "      <td>138.748846</td>\n",
       "    </tr>\n",
       "    <tr>\n",
       "      <th>99997</th>\n",
       "      <td>tKPY3</td>\n",
       "      <td>-1.199934</td>\n",
       "      <td>-2.957637</td>\n",
       "      <td>5.219411</td>\n",
       "      <td>157.080080</td>\n",
       "    </tr>\n",
       "    <tr>\n",
       "      <th>99998</th>\n",
       "      <td>nmxp2</td>\n",
       "      <td>-2.419896</td>\n",
       "      <td>2.417221</td>\n",
       "      <td>-5.548444</td>\n",
       "      <td>51.795253</td>\n",
       "    </tr>\n",
       "    <tr>\n",
       "      <th>99999</th>\n",
       "      <td>V9kWn</td>\n",
       "      <td>-2.551421</td>\n",
       "      <td>-2.025625</td>\n",
       "      <td>6.090891</td>\n",
       "      <td>102.775767</td>\n",
       "    </tr>\n",
       "  </tbody>\n",
       "</table>\n",
       "<p>100000 rows × 5 columns</p>\n",
       "</div>"
      ],
      "text/plain": [
       "          id        f0        f1        f2     product\n",
       "0      fwXo0 -1.146987  0.963328 -0.828965   27.758673\n",
       "1      WJtFt  0.262778  0.269839 -2.530187   56.069697\n",
       "2      ovLUW  0.194587  0.289035 -5.586433   62.871910\n",
       "3      q6cA6  2.236060 -0.553760  0.930038  114.572842\n",
       "4      WPMUX -0.515993  1.716266  5.899011  149.600746\n",
       "...      ...       ...       ...       ...         ...\n",
       "99995  4GxBu -1.777037  1.125220  6.263374  172.327046\n",
       "99996  YKFjq -1.261523 -0.894828  2.524545  138.748846\n",
       "99997  tKPY3 -1.199934 -2.957637  5.219411  157.080080\n",
       "99998  nmxp2 -2.419896  2.417221 -5.548444   51.795253\n",
       "99999  V9kWn -2.551421 -2.025625  6.090891  102.775767\n",
       "\n",
       "[100000 rows x 5 columns]"
      ]
     },
     "metadata": {},
     "output_type": "display_data"
    },
    {
     "name": "stdout",
     "output_type": "stream",
     "text": [
      "\n",
      "\u001b[1mПропуски датафрейма региона 3\u001b[0m\n",
      "id         0\n",
      "f0         0\n",
      "f1         0\n",
      "f2         0\n",
      "product    0\n",
      "dtype: int64\n",
      "\n",
      "\u001b[1mДубли датафрейма региона 3\u001b[0m\n",
      "0\n",
      "\n",
      "\u001b[1mОписание величин региона 3\u001b[0m\n",
      "                  f0             f1             f2        product\n",
      "count  100000.000000  100000.000000  100000.000000  100000.000000\n",
      "mean        0.002023      -0.002081       2.495128      95.000000\n",
      "std         1.732045       1.730417       3.473445      44.749921\n",
      "min        -8.760004      -7.084020     -11.970335       0.000000\n",
      "25%        -1.162288      -1.174820       0.130359      59.450441\n",
      "50%         0.009424      -0.009482       2.484236      94.925613\n",
      "75%         1.158535       1.163678       4.858794     130.595027\n",
      "max         7.238262       7.844801      16.739402     190.029838\n",
      "\u001b[1mВсего строк в датафрейме региона 3: 100000, а у никальных id: 99996\u001b[0m\n",
      "\n",
      "==================================================\n",
      "\n"
     ]
    }
   ],
   "source": [
    "data_frame_check(borehole_1,borehole_2,borehole_3)"
   ]
  },
  {
   "cell_type": "markdown",
   "id": "97e5939a-e465-4550-896d-617a199bf53c",
   "metadata": {},
   "source": [
    "- id — уникальный идентификатор скважины;\n",
    "- f0, f1, f2 — три признака точек (неважно, что они означают, но сами признаки значимы);\n",
    "- product — объём запасов в скважине (тыс. баррелей)."
   ]
  },
  {
   "cell_type": "code",
   "execution_count": 39,
   "id": "fa0626dd-8674-4986-beb1-43246db67c44",
   "metadata": {
    "tags": []
   },
   "outputs": [
    {
     "name": "stdout",
     "output_type": "stream",
     "text": [
      "<class 'pandas.core.frame.DataFrame'>\n",
      "RangeIndex: 100000 entries, 0 to 99999\n",
      "Data columns (total 5 columns):\n",
      " #   Column   Non-Null Count   Dtype  \n",
      "---  ------   --------------   -----  \n",
      " 0   id       100000 non-null  object \n",
      " 1   f0       100000 non-null  float64\n",
      " 2   f1       100000 non-null  float64\n",
      " 3   f2       100000 non-null  float64\n",
      " 4   product  100000 non-null  float64\n",
      "dtypes: float64(4), object(1)\n",
      "memory usage: 3.8+ MB\n"
     ]
    }
   ],
   "source": [
    "borehole_1.info()"
   ]
  },
  {
   "cell_type": "code",
   "execution_count": 41,
   "id": "0b0beccd-3e65-4102-8365-ab980b569091",
   "metadata": {
    "tags": []
   },
   "outputs": [
    {
     "name": "stdout",
     "output_type": "stream",
     "text": [
      "<class 'pandas.core.frame.DataFrame'>\n",
      "RangeIndex: 100000 entries, 0 to 99999\n",
      "Data columns (total 5 columns):\n",
      " #   Column   Non-Null Count   Dtype  \n",
      "---  ------   --------------   -----  \n",
      " 0   id       100000 non-null  object \n",
      " 1   f0       100000 non-null  float64\n",
      " 2   f1       100000 non-null  float64\n",
      " 3   f2       100000 non-null  float64\n",
      " 4   product  100000 non-null  float64\n",
      "dtypes: float64(4), object(1)\n",
      "memory usage: 3.8+ MB\n"
     ]
    }
   ],
   "source": [
    "borehole_2.info()"
   ]
  },
  {
   "cell_type": "code",
   "execution_count": 42,
   "id": "1f5e1235-3e32-4a33-a4b3-782a75290eb7",
   "metadata": {
    "tags": []
   },
   "outputs": [
    {
     "name": "stdout",
     "output_type": "stream",
     "text": [
      "<class 'pandas.core.frame.DataFrame'>\n",
      "RangeIndex: 100000 entries, 0 to 99999\n",
      "Data columns (total 5 columns):\n",
      " #   Column   Non-Null Count   Dtype  \n",
      "---  ------   --------------   -----  \n",
      " 0   id       100000 non-null  object \n",
      " 1   f0       100000 non-null  float64\n",
      " 2   f1       100000 non-null  float64\n",
      " 3   f2       100000 non-null  float64\n",
      " 4   product  100000 non-null  float64\n",
      "dtypes: float64(4), object(1)\n",
      "memory usage: 3.8+ MB\n"
     ]
    }
   ],
   "source": [
    "borehole_3.info()"
   ]
  },
  {
   "cell_type": "markdown",
   "id": "d4bac0ce-8442-4da3-8415-82ee4a49dd3f",
   "metadata": {},
   "source": [
    "Посмотрим на дубли по айди скважины"
   ]
  },
  {
   "cell_type": "code",
   "execution_count": 51,
   "id": "53e3fd5b-0331-4dee-979d-9200615e6f2d",
   "metadata": {
    "tags": []
   },
   "outputs": [
    {
     "data": {
      "text/html": [
       "<div>\n",
       "<style scoped>\n",
       "    .dataframe tbody tr th:only-of-type {\n",
       "        vertical-align: middle;\n",
       "    }\n",
       "\n",
       "    .dataframe tbody tr th {\n",
       "        vertical-align: top;\n",
       "    }\n",
       "\n",
       "    .dataframe thead th {\n",
       "        text-align: right;\n",
       "    }\n",
       "</style>\n",
       "<table border=\"1\" class=\"dataframe\">\n",
       "  <thead>\n",
       "    <tr style=\"text-align: right;\">\n",
       "      <th></th>\n",
       "      <th>id</th>\n",
       "      <th>f0</th>\n",
       "      <th>f1</th>\n",
       "      <th>f2</th>\n",
       "      <th>product</th>\n",
       "    </tr>\n",
       "  </thead>\n",
       "  <tbody>\n",
       "    <tr>\n",
       "      <th>66136</th>\n",
       "      <td>74z30</td>\n",
       "      <td>1.084962</td>\n",
       "      <td>-0.312358</td>\n",
       "      <td>6.990771</td>\n",
       "      <td>127.643327</td>\n",
       "    </tr>\n",
       "    <tr>\n",
       "      <th>64022</th>\n",
       "      <td>74z30</td>\n",
       "      <td>0.741456</td>\n",
       "      <td>0.459229</td>\n",
       "      <td>5.153109</td>\n",
       "      <td>140.771492</td>\n",
       "    </tr>\n",
       "    <tr>\n",
       "      <th>51970</th>\n",
       "      <td>A5aEY</td>\n",
       "      <td>-0.180335</td>\n",
       "      <td>0.935548</td>\n",
       "      <td>-2.094773</td>\n",
       "      <td>33.020205</td>\n",
       "    </tr>\n",
       "    <tr>\n",
       "      <th>3389</th>\n",
       "      <td>A5aEY</td>\n",
       "      <td>-0.039949</td>\n",
       "      <td>0.156872</td>\n",
       "      <td>0.209861</td>\n",
       "      <td>89.249364</td>\n",
       "    </tr>\n",
       "    <tr>\n",
       "      <th>69163</th>\n",
       "      <td>AGS9W</td>\n",
       "      <td>-0.933795</td>\n",
       "      <td>0.116194</td>\n",
       "      <td>-3.655896</td>\n",
       "      <td>19.230453</td>\n",
       "    </tr>\n",
       "    <tr>\n",
       "      <th>42529</th>\n",
       "      <td>AGS9W</td>\n",
       "      <td>1.454747</td>\n",
       "      <td>-0.479651</td>\n",
       "      <td>0.683380</td>\n",
       "      <td>126.370504</td>\n",
       "    </tr>\n",
       "    <tr>\n",
       "      <th>931</th>\n",
       "      <td>HZww2</td>\n",
       "      <td>0.755284</td>\n",
       "      <td>0.368511</td>\n",
       "      <td>1.863211</td>\n",
       "      <td>30.681774</td>\n",
       "    </tr>\n",
       "    <tr>\n",
       "      <th>7530</th>\n",
       "      <td>HZww2</td>\n",
       "      <td>1.061194</td>\n",
       "      <td>-0.373969</td>\n",
       "      <td>10.430210</td>\n",
       "      <td>158.828695</td>\n",
       "    </tr>\n",
       "    <tr>\n",
       "      <th>63593</th>\n",
       "      <td>QcMuo</td>\n",
       "      <td>0.635635</td>\n",
       "      <td>-0.473422</td>\n",
       "      <td>0.862670</td>\n",
       "      <td>64.578675</td>\n",
       "    </tr>\n",
       "    <tr>\n",
       "      <th>1949</th>\n",
       "      <td>QcMuo</td>\n",
       "      <td>0.506563</td>\n",
       "      <td>-0.323775</td>\n",
       "      <td>-2.215583</td>\n",
       "      <td>75.496502</td>\n",
       "    </tr>\n",
       "    <tr>\n",
       "      <th>75715</th>\n",
       "      <td>Tdehs</td>\n",
       "      <td>0.112079</td>\n",
       "      <td>0.430296</td>\n",
       "      <td>3.218993</td>\n",
       "      <td>60.964018</td>\n",
       "    </tr>\n",
       "    <tr>\n",
       "      <th>21426</th>\n",
       "      <td>Tdehs</td>\n",
       "      <td>0.829407</td>\n",
       "      <td>0.298807</td>\n",
       "      <td>-0.049563</td>\n",
       "      <td>96.035308</td>\n",
       "    </tr>\n",
       "    <tr>\n",
       "      <th>92341</th>\n",
       "      <td>TtcGQ</td>\n",
       "      <td>0.110711</td>\n",
       "      <td>1.022689</td>\n",
       "      <td>0.911381</td>\n",
       "      <td>101.318008</td>\n",
       "    </tr>\n",
       "    <tr>\n",
       "      <th>60140</th>\n",
       "      <td>TtcGQ</td>\n",
       "      <td>0.569276</td>\n",
       "      <td>-0.104876</td>\n",
       "      <td>6.440215</td>\n",
       "      <td>85.350186</td>\n",
       "    </tr>\n",
       "    <tr>\n",
       "      <th>89582</th>\n",
       "      <td>bsk9y</td>\n",
       "      <td>0.398908</td>\n",
       "      <td>-0.400253</td>\n",
       "      <td>10.122376</td>\n",
       "      <td>163.433078</td>\n",
       "    </tr>\n",
       "    <tr>\n",
       "      <th>97785</th>\n",
       "      <td>bsk9y</td>\n",
       "      <td>0.378429</td>\n",
       "      <td>0.005837</td>\n",
       "      <td>0.160827</td>\n",
       "      <td>160.637302</td>\n",
       "    </tr>\n",
       "    <tr>\n",
       "      <th>41724</th>\n",
       "      <td>bxg6G</td>\n",
       "      <td>-0.823752</td>\n",
       "      <td>0.546319</td>\n",
       "      <td>3.630479</td>\n",
       "      <td>93.007798</td>\n",
       "    </tr>\n",
       "    <tr>\n",
       "      <th>1364</th>\n",
       "      <td>bxg6G</td>\n",
       "      <td>0.411645</td>\n",
       "      <td>0.856830</td>\n",
       "      <td>-3.653440</td>\n",
       "      <td>73.604260</td>\n",
       "    </tr>\n",
       "    <tr>\n",
       "      <th>16633</th>\n",
       "      <td>fiKDv</td>\n",
       "      <td>0.157341</td>\n",
       "      <td>1.028359</td>\n",
       "      <td>5.585586</td>\n",
       "      <td>95.817889</td>\n",
       "    </tr>\n",
       "    <tr>\n",
       "      <th>90815</th>\n",
       "      <td>fiKDv</td>\n",
       "      <td>0.049883</td>\n",
       "      <td>0.841313</td>\n",
       "      <td>6.394613</td>\n",
       "      <td>137.346586</td>\n",
       "    </tr>\n",
       "  </tbody>\n",
       "</table>\n",
       "</div>"
      ],
      "text/plain": [
       "          id        f0        f1         f2     product\n",
       "66136  74z30  1.084962 -0.312358   6.990771  127.643327\n",
       "64022  74z30  0.741456  0.459229   5.153109  140.771492\n",
       "51970  A5aEY -0.180335  0.935548  -2.094773   33.020205\n",
       "3389   A5aEY -0.039949  0.156872   0.209861   89.249364\n",
       "69163  AGS9W -0.933795  0.116194  -3.655896   19.230453\n",
       "42529  AGS9W  1.454747 -0.479651   0.683380  126.370504\n",
       "931    HZww2  0.755284  0.368511   1.863211   30.681774\n",
       "7530   HZww2  1.061194 -0.373969  10.430210  158.828695\n",
       "63593  QcMuo  0.635635 -0.473422   0.862670   64.578675\n",
       "1949   QcMuo  0.506563 -0.323775  -2.215583   75.496502\n",
       "75715  Tdehs  0.112079  0.430296   3.218993   60.964018\n",
       "21426  Tdehs  0.829407  0.298807  -0.049563   96.035308\n",
       "92341  TtcGQ  0.110711  1.022689   0.911381  101.318008\n",
       "60140  TtcGQ  0.569276 -0.104876   6.440215   85.350186\n",
       "89582  bsk9y  0.398908 -0.400253  10.122376  163.433078\n",
       "97785  bsk9y  0.378429  0.005837   0.160827  160.637302\n",
       "41724  bxg6G -0.823752  0.546319   3.630479   93.007798\n",
       "1364   bxg6G  0.411645  0.856830  -3.653440   73.604260\n",
       "16633  fiKDv  0.157341  1.028359   5.585586   95.817889\n",
       "90815  fiKDv  0.049883  0.841313   6.394613  137.346586"
      ]
     },
     "execution_count": 51,
     "metadata": {},
     "output_type": "execute_result"
    }
   ],
   "source": [
    "borehole_1.loc[borehole_1.id.isin(borehole_1.loc[borehole_1.id.duplicated()].id.unique())].sort_values(by = 'id')"
   ]
  },
  {
   "cell_type": "markdown",
   "id": "83f0aeb2-b287-4563-9cb3-9063074af2a9",
   "metadata": {},
   "source": [
    "Не исключаем, что одна скважина давала данные в разное время, поэтому обьем получался другой. Т.к. мы не осведомлены в значениях признаков и не можем задетектить правильный или не правильный сбор данных, строки с дублями id оставляем"
   ]
  },
  {
   "cell_type": "markdown",
   "id": "6ac05d34-2602-4c1b-8972-dd4792e6be1f",
   "metadata": {},
   "source": [
    "# Проверка корреляции признаков"
   ]
  },
  {
   "cell_type": "code",
   "execution_count": 65,
   "id": "c9a830bd-3676-4238-90bb-651e8efbc21b",
   "metadata": {
    "tags": []
   },
   "outputs": [
    {
     "data": {
      "text/plain": [
       "<Axes: >"
      ]
     },
     "execution_count": 65,
     "metadata": {},
     "output_type": "execute_result"
    },
    {
     "data": {
      "image/png": "[encoded data removed]",
      "text/plain": [
       "<Figure size 640x480 with 2 Axes>"
      ]
     },
     "metadata": {},
     "output_type": "display_data"
    }
   ],
   "source": [
    "sns.heatmap(borehole_1.drop(columns = 'id').corr(), annot = True)"
   ]
  },
  {
   "cell_type": "code",
   "execution_count": 66,
   "id": "3b6584b3-361f-408d-8265-8997e9a6d824",
   "metadata": {
    "tags": []
   },
   "outputs": [
    {
     "data": {
      "text/plain": [
       "<Axes: >"
      ]
     },
     "execution_count": 66,
     "metadata": {},
     "output_type": "execute_result"
    },
    {
     "data": {
      "image/png": "[encoded data removed]",
      "text/plain": [
       "<Figure size 640x480 with 2 Axes>"
      ]
     },
     "metadata": {},
     "output_type": "display_data"
    }
   ],
   "source": [
    "sns.heatmap(borehole_2.drop(columns = 'id').corr(), annot = True)"
   ]
  },
  {
   "cell_type": "code",
   "execution_count": 67,
   "id": "3384d096-6389-449d-ab6f-f864e4ee906e",
   "metadata": {
    "tags": []
   },
   "outputs": [
    {
     "data": {
      "text/plain": [
       "<Axes: >"
      ]
     },
     "execution_count": 67,
     "metadata": {},
     "output_type": "execute_result"
    },
    {
     "data": {
      "image/png": "[encoded data removed]",
      "text/plain": [
       "<Figure size 640x480 with 2 Axes>"
      ]
     },
     "metadata": {},
     "output_type": "display_data"
    }
   ],
   "source": [
    "sns.heatmap(borehole_3.drop(columns = 'id').corr(), annot = True)"
   ]
  },
  {
   "cell_type": "markdown",
   "id": "d76e9d7f-2164-4831-90b3-3c2e1fc8b632",
   "metadata": {},
   "source": [
    "Между признаками отсутствует сильная корреляция. Плюс мы видим довольно разные зависимости признаков от целевого признака, что свидетельствует о том, что для каждого региона понадобиться отдельная модель"
   ]
  },
  {
   "cell_type": "markdown",
   "id": "6a2a89d4-c72e-493e-b123-715047d2ccc0",
   "metadata": {},
   "source": [
    "# Посмотрим как таргет зависит от каждого признака(чтобы решить нужно ли использовать лассо или ридж)"
   ]
  },
  {
   "cell_type": "markdown",
   "id": "97412a08-9299-43b6-8b4a-3349ef8e01d5",
   "metadata": {},
   "source": [
    "## Регион 1"
   ]
  },
  {
   "cell_type": "code",
   "execution_count": 124,
   "id": "1df51451-3782-4108-94dd-326d04e14f5d",
   "metadata": {
    "tags": []
   },
   "outputs": [],
   "source": [
    "def my_plotter(ax, data1, data2, param_dict):\n",
    "    \"\"\"\n",
    "    A helper function to make a graph.\n",
    "    \"\"\"\n",
    "    out = ax.scatter(data1, data2, **param_dict, label = data1.name)\n",
    "    ax.legend()\n",
    "    return out"
   ]
  },
  {
   "cell_type": "code",
   "execution_count": 130,
   "id": "f1401bfa-c4f5-4e59-8e3d-54c378ceb65b",
   "metadata": {
    "tags": []
   },
   "outputs": [
    {
     "data": {
      "text/plain": [
       "<matplotlib.collections.PathCollection at 0x2d3ee0890>"
      ]
     },
     "execution_count": 130,
     "metadata": {},
     "output_type": "execute_result"
    },
    {
     "data": {
      "image/png": "[encoded data removed]",
      "text/plain": [
       "<Figure size 2000x300 with 3 Axes>"
      ]
     },
     "metadata": {},
     "output_type": "display_data"
    }
   ],
   "source": [
    "data1, data2, data3, data4 = borehole_1['f0'],borehole_1['f1'],borehole_1['f2'],borehole_1['product']\n",
    "fig, (ax1, ax2, ax3) = plt.subplots(1, 3, figsize=(20, 3))\n",
    "my_plotter(ax1, data1, data4, {'marker': '.'})\n",
    "my_plotter(ax2, data2, data4, {'marker': '.'})\n",
    "my_plotter(ax3, data3, data4, {'marker': '.'})"
   ]
  },
  {
   "cell_type": "markdown",
   "id": "d209ef23-747b-429c-98d9-aa114d9cc545",
   "metadata": {},
   "source": [
    "## Регион 2"
   ]
  },
  {
   "cell_type": "code",
   "execution_count": 126,
   "id": "371369e2-ccea-4937-948c-a1ec6c125763",
   "metadata": {
    "tags": []
   },
   "outputs": [
    {
     "data": {
      "text/plain": [
       "<matplotlib.collections.PathCollection at 0x2d40f8c90>"
      ]
     },
     "execution_count": 126,
     "metadata": {},
     "output_type": "execute_result"
    },
    {
     "data": {
      "image/png": "[encoded data removed]",
      "text/plain": [
       "<Figure size 2000x300 with 3 Axes>"
      ]
     },
     "metadata": {},
     "output_type": "display_data"
    }
   ],
   "source": [
    "data1, data2, data3, data4 = borehole_2['f0'],borehole_2['f1'],borehole_2['f2'],borehole_2['product']\n",
    "fig, (ax1, ax2, ax3) = plt.subplots(1, 3, figsize=(20, 3))\n",
    "my_plotter(ax1, data1, data4, {'marker': 'x'})\n",
    "my_plotter(ax2, data2, data4, {'marker': 'o'})\n",
    "my_plotter(ax3, data3, data4, {'marker': 'o'})"
   ]
  },
  {
   "cell_type": "markdown",
   "id": "1374c70a-4243-448e-a108-e64407004a70",
   "metadata": {},
   "source": [
    "## Регион 3"
   ]
  },
  {
   "cell_type": "code",
   "execution_count": 129,
   "id": "f8bf6059-6cbb-4186-98ad-9e2478d2e8fb",
   "metadata": {
    "tags": []
   },
   "outputs": [
    {
     "data": {
      "text/plain": [
       "<matplotlib.collections.PathCollection at 0x2d4032450>"
      ]
     },
     "execution_count": 129,
     "metadata": {},
     "output_type": "execute_result"
    },
    {
     "data": {
      "image/png": "[encoded data removed]",
      "text/plain": [
       "<Figure size 2000x300 with 3 Axes>"
      ]
     },
     "metadata": {},
     "output_type": "display_data"
    }
   ],
   "source": [
    "data1, data2, data3, data4 = borehole_3['f0'],borehole_3['f1'],borehole_3['f2'],borehole_3['product']\n",
    "fig, (ax1, ax2, ax3) = plt.subplots(1, 3, figsize=(20, 3))\n",
    "my_plotter(ax1, data1, data4, {'marker': '.'})\n",
    "my_plotter(ax2, data2, data4, {'marker': '.'})\n",
    "my_plotter(ax3, data3, data4, {'marker': '.'})"
   ]
  },
  {
   "attachments": {
    "a81d67f6-f8da-4872-9d88-c061e8c2dc6b.png": {
     "image/png": "[encoded data removed]"
    }
   },
   "cell_type": "markdown",
   "id": "3d432e7a-a720-49d1-ad5f-c00c5054d7d3",
   "metadata": {},
   "source": [
    "![image.png](attachment:a81d67f6-f8da-4872-9d88-c061e8c2dc6b.png)"
   ]
  },
  {
   "cell_type": "markdown",
   "id": "6a56289a-2726-4f5b-8b04-1f445c16eee0",
   "metadata": {},
   "source": [
    "Будем использовать LASSO т.к. есть подозрения, что искать связь со всеми признаками будет лишним."
   ]
  },
  {
   "cell_type": "markdown",
   "id": "703da371-cfba-4210-93e8-c3e648c8bc43",
   "metadata": {},
   "source": [
    "# Обучение моделей "
   ]
  },
  {
   "cell_type": "markdown",
   "id": "c049cd9c-1f47-41de-9fc1-705f36e28a9b",
   "metadata": {},
   "source": [
    "## Регион 1"
   ]
  },
  {
   "cell_type": "code",
   "execution_count": 348,
   "id": "9758d08e-d0e7-420b-927c-bb3a0ffff6fa",
   "metadata": {
    "tags": []
   },
   "outputs": [
    {
     "data": {
      "text/html": [
       "<div>\n",
       "<style scoped>\n",
       "    .dataframe tbody tr th:only-of-type {\n",
       "        vertical-align: middle;\n",
       "    }\n",
       "\n",
       "    .dataframe tbody tr th {\n",
       "        vertical-align: top;\n",
       "    }\n",
       "\n",
       "    .dataframe thead th {\n",
       "        text-align: right;\n",
       "    }\n",
       "</style>\n",
       "<table border=\"1\" class=\"dataframe\">\n",
       "  <thead>\n",
       "    <tr style=\"text-align: right;\">\n",
       "      <th></th>\n",
       "      <th>id</th>\n",
       "      <th>f0</th>\n",
       "      <th>f1</th>\n",
       "      <th>f2</th>\n",
       "      <th>product</th>\n",
       "    </tr>\n",
       "  </thead>\n",
       "  <tbody>\n",
       "    <tr>\n",
       "      <th>0</th>\n",
       "      <td>txEyH</td>\n",
       "      <td>0.705745</td>\n",
       "      <td>-0.497823</td>\n",
       "      <td>1.221170</td>\n",
       "      <td>105.280062</td>\n",
       "    </tr>\n",
       "    <tr>\n",
       "      <th>1</th>\n",
       "      <td>2acmU</td>\n",
       "      <td>1.334711</td>\n",
       "      <td>-0.340164</td>\n",
       "      <td>4.365080</td>\n",
       "      <td>73.037750</td>\n",
       "    </tr>\n",
       "    <tr>\n",
       "      <th>2</th>\n",
       "      <td>409Wp</td>\n",
       "      <td>1.022732</td>\n",
       "      <td>0.151990</td>\n",
       "      <td>1.419926</td>\n",
       "      <td>85.265647</td>\n",
       "    </tr>\n",
       "    <tr>\n",
       "      <th>3</th>\n",
       "      <td>iJLyR</td>\n",
       "      <td>-0.032172</td>\n",
       "      <td>0.139033</td>\n",
       "      <td>2.978566</td>\n",
       "      <td>168.620776</td>\n",
       "    </tr>\n",
       "    <tr>\n",
       "      <th>4</th>\n",
       "      <td>Xdl7t</td>\n",
       "      <td>1.988431</td>\n",
       "      <td>0.155413</td>\n",
       "      <td>4.751769</td>\n",
       "      <td>154.036647</td>\n",
       "    </tr>\n",
       "    <tr>\n",
       "      <th>...</th>\n",
       "      <td>...</td>\n",
       "      <td>...</td>\n",
       "      <td>...</td>\n",
       "      <td>...</td>\n",
       "      <td>...</td>\n",
       "    </tr>\n",
       "    <tr>\n",
       "      <th>99995</th>\n",
       "      <td>DLsed</td>\n",
       "      <td>0.971957</td>\n",
       "      <td>0.370953</td>\n",
       "      <td>6.075346</td>\n",
       "      <td>110.744026</td>\n",
       "    </tr>\n",
       "    <tr>\n",
       "      <th>99996</th>\n",
       "      <td>QKivN</td>\n",
       "      <td>1.392429</td>\n",
       "      <td>-0.382606</td>\n",
       "      <td>1.273912</td>\n",
       "      <td>122.346843</td>\n",
       "    </tr>\n",
       "    <tr>\n",
       "      <th>99997</th>\n",
       "      <td>3rnvd</td>\n",
       "      <td>1.029585</td>\n",
       "      <td>0.018787</td>\n",
       "      <td>-1.348308</td>\n",
       "      <td>64.375443</td>\n",
       "    </tr>\n",
       "    <tr>\n",
       "      <th>99998</th>\n",
       "      <td>7kl59</td>\n",
       "      <td>0.998163</td>\n",
       "      <td>-0.528582</td>\n",
       "      <td>1.583869</td>\n",
       "      <td>74.040764</td>\n",
       "    </tr>\n",
       "    <tr>\n",
       "      <th>99999</th>\n",
       "      <td>1CWhH</td>\n",
       "      <td>1.764754</td>\n",
       "      <td>-0.266417</td>\n",
       "      <td>5.722849</td>\n",
       "      <td>149.633246</td>\n",
       "    </tr>\n",
       "  </tbody>\n",
       "</table>\n",
       "<p>100000 rows × 5 columns</p>\n",
       "</div>"
      ],
      "text/plain": [
       "          id        f0        f1        f2     product\n",
       "0      txEyH  0.705745 -0.497823  1.221170  105.280062\n",
       "1      2acmU  1.334711 -0.340164  4.365080   73.037750\n",
       "2      409Wp  1.022732  0.151990  1.419926   85.265647\n",
       "3      iJLyR -0.032172  0.139033  2.978566  168.620776\n",
       "4      Xdl7t  1.988431  0.155413  4.751769  154.036647\n",
       "...      ...       ...       ...       ...         ...\n",
       "99995  DLsed  0.971957  0.370953  6.075346  110.744026\n",
       "99996  QKivN  1.392429 -0.382606  1.273912  122.346843\n",
       "99997  3rnvd  1.029585  0.018787 -1.348308   64.375443\n",
       "99998  7kl59  0.998163 -0.528582  1.583869   74.040764\n",
       "99999  1CWhH  1.764754 -0.266417  5.722849  149.633246\n",
       "\n",
       "[100000 rows x 5 columns]"
      ]
     },
     "execution_count": 348,
     "metadata": {},
     "output_type": "execute_result"
    }
   ],
   "source": [
    "borehole_1"
   ]
  },
  {
   "cell_type": "code",
   "execution_count": 349,
   "id": "3ac870ca-e990-40a0-8dbd-ff39181c5c49",
   "metadata": {
    "tags": []
   },
   "outputs": [],
   "source": [
    "X1 = borehole_1.drop(columns=['id','product'])"
   ]
  },
  {
   "cell_type": "code",
   "execution_count": 350,
   "id": "b67774e4-bc82-485f-a2ff-b758e7587e36",
   "metadata": {
    "tags": []
   },
   "outputs": [],
   "source": [
    "y1 = borehole_1['product']"
   ]
  },
  {
   "cell_type": "code",
   "execution_count": 351,
   "id": "d4193a61-b792-4f1c-b538-9c9d1cef79a6",
   "metadata": {
    "tags": []
   },
   "outputs": [],
   "source": [
    "X_1_train, X_1_test, y_1_train, y_1_test = train_test_split(X1,y1, test_size = 0.25, random_state = RANDOM_STATE)"
   ]
  },
  {
   "cell_type": "code",
   "execution_count": 352,
   "id": "a26a8fd6-d9fb-4e7d-9013-c149cf052f2f",
   "metadata": {
    "tags": []
   },
   "outputs": [
    {
     "name": "stdout",
     "output_type": "stream",
     "text": [
      "(75000, 3)\n",
      "(25000, 3)\n"
     ]
    }
   ],
   "source": [
    "print(X_1_train.shape)\n",
    "print(X_1_test.shape)"
   ]
  },
  {
   "cell_type": "code",
   "execution_count": 353,
   "id": "1c35e332-864b-42bd-b813-878bcec4bf59",
   "metadata": {
    "tags": []
   },
   "outputs": [
    {
     "data": {
      "application/vnd.jupyter.widget-view+json": {
       "model_id": "c32856ac1fa940baa7b4ed32c4e93e88",
       "version_major": 2,
       "version_minor": 0
      },
      "text/plain": [
       "  0%|          | 0/11 [00:00<?, ?it/s]"
      ]
     },
     "metadata": {},
     "output_type": "display_data"
    }
   ],
   "source": [
    "df_res_1 = lasso_learning(X_1_train,y_1_train)"
   ]
  },
  {
   "cell_type": "code",
   "execution_count": 354,
   "id": "fcd221ab-c276-483f-83c1-64e52d2d1e21",
   "metadata": {
    "tags": []
   },
   "outputs": [
    {
     "data": {
      "text/html": [
       "<div>\n",
       "<style scoped>\n",
       "    .dataframe tbody tr th:only-of-type {\n",
       "        vertical-align: middle;\n",
       "    }\n",
       "\n",
       "    .dataframe tbody tr th {\n",
       "        vertical-align: top;\n",
       "    }\n",
       "\n",
       "    .dataframe thead th {\n",
       "        text-align: right;\n",
       "    }\n",
       "</style>\n",
       "<table border=\"1\" class=\"dataframe\">\n",
       "  <thead>\n",
       "    <tr style=\"text-align: right;\">\n",
       "      <th></th>\n",
       "      <th>r2</th>\n",
       "      <th>alpha</th>\n",
       "    </tr>\n",
       "  </thead>\n",
       "  <tbody>\n",
       "    <tr>\n",
       "      <th>0</th>\n",
       "      <td>0.274087</td>\n",
       "      <td>0.001</td>\n",
       "    </tr>\n",
       "    <tr>\n",
       "      <th>1</th>\n",
       "      <td>0.274086</td>\n",
       "      <td>0.010</td>\n",
       "    </tr>\n",
       "    <tr>\n",
       "      <th>2</th>\n",
       "      <td>0.274066</td>\n",
       "      <td>0.100</td>\n",
       "    </tr>\n",
       "    <tr>\n",
       "      <th>3</th>\n",
       "      <td>0.273565</td>\n",
       "      <td>0.500</td>\n",
       "    </tr>\n",
       "    <tr>\n",
       "      <th>4</th>\n",
       "      <td>0.271991</td>\n",
       "      <td>1.000</td>\n",
       "    </tr>\n",
       "    <tr>\n",
       "      <th>5</th>\n",
       "      <td>0.269367</td>\n",
       "      <td>1.500</td>\n",
       "    </tr>\n",
       "    <tr>\n",
       "      <th>6</th>\n",
       "      <td>0.265691</td>\n",
       "      <td>2.000</td>\n",
       "    </tr>\n",
       "    <tr>\n",
       "      <th>7</th>\n",
       "      <td>0.241862</td>\n",
       "      <td>4.000</td>\n",
       "    </tr>\n",
       "    <tr>\n",
       "      <th>8</th>\n",
       "      <td>0.235384</td>\n",
       "      <td>5.000</td>\n",
       "    </tr>\n",
       "    <tr>\n",
       "      <th>9</th>\n",
       "      <td>0.231031</td>\n",
       "      <td>7.000</td>\n",
       "    </tr>\n",
       "    <tr>\n",
       "      <th>10</th>\n",
       "      <td>0.228570</td>\n",
       "      <td>10.000</td>\n",
       "    </tr>\n",
       "  </tbody>\n",
       "</table>\n",
       "</div>"
      ],
      "text/plain": [
       "          r2   alpha\n",
       "0   0.274087   0.001\n",
       "1   0.274086   0.010\n",
       "2   0.274066   0.100\n",
       "3   0.273565   0.500\n",
       "4   0.271991   1.000\n",
       "5   0.269367   1.500\n",
       "6   0.265691   2.000\n",
       "7   0.241862   4.000\n",
       "8   0.235384   5.000\n",
       "9   0.231031   7.000\n",
       "10  0.228570  10.000"
      ]
     },
     "execution_count": 354,
     "metadata": {},
     "output_type": "execute_result"
    }
   ],
   "source": [
    "df_res_1.sort_values('r2', ascending = False)"
   ]
  },
  {
   "cell_type": "code",
   "execution_count": 355,
   "id": "8561097c-6d94-4148-b14d-339620d784ad",
   "metadata": {
    "tags": []
   },
   "outputs": [
    {
     "data": {
      "application/vnd.jupyter.widget-view+json": {
       "model_id": "932e4278106a4dfe9c2e11a7fb897ae9",
       "version_major": 2,
       "version_minor": 0
      },
      "text/plain": [
       "  0%|          | 0/11 [00:00<?, ?it/s]"
      ]
     },
     "metadata": {},
     "output_type": "display_data"
    }
   ],
   "source": [
    "df_res_1_ridge = ridge_learning(X_1_train,y_1_train)"
   ]
  },
  {
   "cell_type": "code",
   "execution_count": 356,
   "id": "15865c10-0105-43dd-a6c6-b1f08543459a",
   "metadata": {
    "tags": []
   },
   "outputs": [
    {
     "data": {
      "text/html": [
       "<div>\n",
       "<style scoped>\n",
       "    .dataframe tbody tr th:only-of-type {\n",
       "        vertical-align: middle;\n",
       "    }\n",
       "\n",
       "    .dataframe tbody tr th {\n",
       "        vertical-align: top;\n",
       "    }\n",
       "\n",
       "    .dataframe thead th {\n",
       "        text-align: right;\n",
       "    }\n",
       "</style>\n",
       "<table border=\"1\" class=\"dataframe\">\n",
       "  <thead>\n",
       "    <tr style=\"text-align: right;\">\n",
       "      <th></th>\n",
       "      <th>r2</th>\n",
       "      <th>alpha</th>\n",
       "    </tr>\n",
       "  </thead>\n",
       "  <tbody>\n",
       "    <tr>\n",
       "      <th>10</th>\n",
       "      <td>0.274087</td>\n",
       "      <td>10.000</td>\n",
       "    </tr>\n",
       "    <tr>\n",
       "      <th>9</th>\n",
       "      <td>0.274087</td>\n",
       "      <td>7.000</td>\n",
       "    </tr>\n",
       "    <tr>\n",
       "      <th>8</th>\n",
       "      <td>0.274087</td>\n",
       "      <td>5.000</td>\n",
       "    </tr>\n",
       "    <tr>\n",
       "      <th>7</th>\n",
       "      <td>0.274087</td>\n",
       "      <td>4.000</td>\n",
       "    </tr>\n",
       "    <tr>\n",
       "      <th>6</th>\n",
       "      <td>0.274087</td>\n",
       "      <td>2.000</td>\n",
       "    </tr>\n",
       "    <tr>\n",
       "      <th>5</th>\n",
       "      <td>0.274087</td>\n",
       "      <td>1.500</td>\n",
       "    </tr>\n",
       "    <tr>\n",
       "      <th>4</th>\n",
       "      <td>0.274087</td>\n",
       "      <td>1.000</td>\n",
       "    </tr>\n",
       "    <tr>\n",
       "      <th>3</th>\n",
       "      <td>0.274087</td>\n",
       "      <td>0.500</td>\n",
       "    </tr>\n",
       "    <tr>\n",
       "      <th>2</th>\n",
       "      <td>0.274087</td>\n",
       "      <td>0.100</td>\n",
       "    </tr>\n",
       "    <tr>\n",
       "      <th>1</th>\n",
       "      <td>0.274087</td>\n",
       "      <td>0.010</td>\n",
       "    </tr>\n",
       "    <tr>\n",
       "      <th>0</th>\n",
       "      <td>0.274087</td>\n",
       "      <td>0.001</td>\n",
       "    </tr>\n",
       "  </tbody>\n",
       "</table>\n",
       "</div>"
      ],
      "text/plain": [
       "          r2   alpha\n",
       "10  0.274087  10.000\n",
       "9   0.274087   7.000\n",
       "8   0.274087   5.000\n",
       "7   0.274087   4.000\n",
       "6   0.274087   2.000\n",
       "5   0.274087   1.500\n",
       "4   0.274087   1.000\n",
       "3   0.274087   0.500\n",
       "2   0.274087   0.100\n",
       "1   0.274087   0.010\n",
       "0   0.274087   0.001"
      ]
     },
     "execution_count": 356,
     "metadata": {},
     "output_type": "execute_result"
    }
   ],
   "source": [
    "df_res_1_ridge.sort_values('r2', ascending = False)"
   ]
  },
  {
   "cell_type": "code",
   "execution_count": 357,
   "id": "b053abbe-99dc-4b7a-8e93-a010d19cf122",
   "metadata": {
    "tags": []
   },
   "outputs": [],
   "source": [
    "df_res_1_linear = linear_learning(X_1_train,y_1_train)"
   ]
  },
  {
   "cell_type": "code",
   "execution_count": 358,
   "id": "73debd42-3a4a-49ac-a33c-ea6bb82d7de3",
   "metadata": {
    "tags": []
   },
   "outputs": [
    {
     "data": {
      "text/html": [
       "<div>\n",
       "<style scoped>\n",
       "    .dataframe tbody tr th:only-of-type {\n",
       "        vertical-align: middle;\n",
       "    }\n",
       "\n",
       "    .dataframe tbody tr th {\n",
       "        vertical-align: top;\n",
       "    }\n",
       "\n",
       "    .dataframe thead th {\n",
       "        text-align: right;\n",
       "    }\n",
       "</style>\n",
       "<table border=\"1\" class=\"dataframe\">\n",
       "  <thead>\n",
       "    <tr style=\"text-align: right;\">\n",
       "      <th></th>\n",
       "      <th>r2</th>\n",
       "      <th>model</th>\n",
       "    </tr>\n",
       "  </thead>\n",
       "  <tbody>\n",
       "    <tr>\n",
       "      <th>0</th>\n",
       "      <td>0.274087</td>\n",
       "      <td>lin_reg</td>\n",
       "    </tr>\n",
       "  </tbody>\n",
       "</table>\n",
       "</div>"
      ],
      "text/plain": [
       "         r2    model\n",
       "0  0.274087  lin_reg"
      ]
     },
     "execution_count": 358,
     "metadata": {},
     "output_type": "execute_result"
    }
   ],
   "source": [
    "df_res_1_linear"
   ]
  },
  {
   "cell_type": "markdown",
   "id": "6f5e3efc-64e4-44dc-9fa5-5a28ca3ec68f",
   "metadata": {},
   "source": [
    "Выберем обычную линейную регрессию, там качевство модели аналогичное."
   ]
  },
  {
   "cell_type": "code",
   "execution_count": 359,
   "id": "b8197d81-fc06-4663-8078-f00e30e38287",
   "metadata": {
    "tags": []
   },
   "outputs": [
    {
     "data": {
      "text/html": [
       "<style>#sk-container-id-5 {color: black;}#sk-container-id-5 pre{padding: 0;}#sk-container-id-5 div.sk-toggleable {background-color: white;}#sk-container-id-5 label.sk-toggleable__label {cursor: pointer;display: block;width: 100%;margin-bottom: 0;padding: 0.3em;box-sizing: border-box;text-align: center;}#sk-container-id-5 label.sk-toggleable__label-arrow:before {content: \"▸\";float: left;margin-right: 0.25em;color: #696969;}#sk-container-id-5 label.sk-toggleable__label-arrow:hover:before {color: black;}#sk-container-id-5 div.sk-estimator:hover label.sk-toggleable__label-arrow:before {color: black;}#sk-container-id-5 div.sk-toggleable__content {max-height: 0;max-width: 0;overflow: hidden;text-align: left;background-color: #f0f8ff;}#sk-container-id-5 div.sk-toggleable__content pre {margin: 0.2em;color: black;border-radius: 0.25em;background-color: #f0f8ff;}#sk-container-id-5 input.sk-toggleable__control:checked~div.sk-toggleable__content {max-height: 200px;max-width: 100%;overflow: auto;}#sk-container-id-5 input.sk-toggleable__control:checked~label.sk-toggleable__label-arrow:before {content: \"▾\";}#sk-container-id-5 div.sk-estimator input.sk-toggleable__control:checked~label.sk-toggleable__label {background-color: #d4ebff;}#sk-container-id-5 div.sk-label input.sk-toggleable__control:checked~label.sk-toggleable__label {background-color: #d4ebff;}#sk-container-id-5 input.sk-hidden--visually {border: 0;clip: rect(1px 1px 1px 1px);clip: rect(1px, 1px, 1px, 1px);height: 1px;margin: -1px;overflow: hidden;padding: 0;position: absolute;width: 1px;}#sk-container-id-5 div.sk-estimator {font-family: monospace;background-color: #f0f8ff;border: 1px dotted black;border-radius: 0.25em;box-sizing: border-box;margin-bottom: 0.5em;}#sk-container-id-5 div.sk-estimator:hover {background-color: #d4ebff;}#sk-container-id-5 div.sk-parallel-item::after {content: \"\";width: 100%;border-bottom: 1px solid gray;flex-grow: 1;}#sk-container-id-5 div.sk-label:hover label.sk-toggleable__label {background-color: #d4ebff;}#sk-container-id-5 div.sk-serial::before {content: \"\";position: absolute;border-left: 1px solid gray;box-sizing: border-box;top: 0;bottom: 0;left: 50%;z-index: 0;}#sk-container-id-5 div.sk-serial {display: flex;flex-direction: column;align-items: center;background-color: white;padding-right: 0.2em;padding-left: 0.2em;position: relative;}#sk-container-id-5 div.sk-item {position: relative;z-index: 1;}#sk-container-id-5 div.sk-parallel {display: flex;align-items: stretch;justify-content: center;background-color: white;position: relative;}#sk-container-id-5 div.sk-item::before, #sk-container-id-5 div.sk-parallel-item::before {content: \"\";position: absolute;border-left: 1px solid gray;box-sizing: border-box;top: 0;bottom: 0;left: 50%;z-index: -1;}#sk-container-id-5 div.sk-parallel-item {display: flex;flex-direction: column;z-index: 1;position: relative;background-color: white;}#sk-container-id-5 div.sk-parallel-item:first-child::after {align-self: flex-end;width: 50%;}#sk-container-id-5 div.sk-parallel-item:last-child::after {align-self: flex-start;width: 50%;}#sk-container-id-5 div.sk-parallel-item:only-child::after {width: 0;}#sk-container-id-5 div.sk-dashed-wrapped {border: 1px dashed gray;margin: 0 0.4em 0.5em 0.4em;box-sizing: border-box;padding-bottom: 0.4em;background-color: white;}#sk-container-id-5 div.sk-label label {font-family: monospace;font-weight: bold;display: inline-block;line-height: 1.2em;}#sk-container-id-5 div.sk-label-container {text-align: center;}#sk-container-id-5 div.sk-container {/* jupyter's `normalize.less` sets `[hidden] { display: none; }` but bootstrap.min.css set `[hidden] { display: none !important; }` so we also need the `!important` here to be able to override the default hidden behavior on the sphinx rendered scikit-learn.org. See: https://github.com/scikit-learn/scikit-learn/issues/21755 */display: inline-block !important;position: relative;}#sk-container-id-5 div.sk-text-repr-fallback {display: none;}</style><div id=\"sk-container-id-5\" class=\"sk-top-container\"><div class=\"sk-text-repr-fallback\"><pre>LinearRegression()</pre><b>In a Jupyter environment, please rerun this cell to show the HTML representation or trust the notebook. <br />On GitHub, the HTML representation is unable to render, please try loading this page with nbviewer.org.</b></div><div class=\"sk-container\" hidden><div class=\"sk-item\"><div class=\"sk-estimator sk-toggleable\"><input class=\"sk-toggleable__control sk-hidden--visually\" id=\"sk-estimator-id-5\" type=\"checkbox\" checked><label for=\"sk-estimator-id-5\" class=\"sk-toggleable__label sk-toggleable__label-arrow\">LinearRegression</label><div class=\"sk-toggleable__content\"><pre>LinearRegression()</pre></div></div></div></div></div>"
      ],
      "text/plain": [
       "LinearRegression()"
      ]
     },
     "execution_count": 359,
     "metadata": {},
     "output_type": "execute_result"
    }
   ],
   "source": [
    "model1= LinearRegression()\n",
    "\n",
    "model1.fit(X_1_train,y_1_train)"
   ]
  },
  {
   "cell_type": "markdown",
   "id": "d869de83-615e-4166-b7f9-c272169ee9a5",
   "metadata": {},
   "source": [
    "### Тестируем на валидационной выборке"
   ]
  },
  {
   "cell_type": "code",
   "execution_count": null,
   "id": "fb5ddf8b-b445-4d6b-b8f7-14f107b6d50f",
   "metadata": {},
   "outputs": [
    {
     "data": {
      "text/plain": [
       "0         10.038645\n",
       "1        114.551489\n",
       "2        132.603635\n",
       "3        169.072125\n",
       "4        122.325180\n",
       "            ...    \n",
       "24995    170.116726\n",
       "24996     93.632175\n",
       "24997    127.352259\n",
       "24998     99.782700\n",
       "24999    177.821022\n",
       "Name: product, Length: 25000, dtype: float64"
      ]
     },
     "execution_count": 366,
     "metadata": {},
     "output_type": "execute_result"
    }
   ],
   "source": [
    "y_1_test.reset_index(drop=True)"
   ]
  },
  {
   "cell_type": "code",
   "execution_count": null,
   "id": "5f8a43e8-760e-4a34-bb8e-ef320c7e77b3",
   "metadata": {},
   "outputs": [
    {
     "data": {
      "text/plain": [
       "0         95.894952\n",
       "1         77.572583\n",
       "2         77.892640\n",
       "3         90.175134\n",
       "4         70.510088\n",
       "            ...    \n",
       "24995    103.037104\n",
       "24996     85.403255\n",
       "24997     61.509833\n",
       "24998    118.180397\n",
       "24999    118.169392\n",
       "Length: 25000, dtype: float64"
      ]
     },
     "execution_count": 364,
     "metadata": {},
     "output_type": "execute_result"
    }
   ],
   "source": [
    "pd.Series(predictions_reg1)"
   ]
  },
  {
   "cell_type": "code",
   "execution_count": 368,
   "id": "0741cdad-e8dc-4f5d-b346-13a7b0cddf11",
   "metadata": {
    "tags": []
   },
   "outputs": [
    {
     "name": "stdout",
     "output_type": "stream",
     "text": [
      "\n",
      "R2=0.27994321524487786\n",
      "RMSE=37.5794217150813\n",
      "\n"
     ]
    }
   ],
   "source": [
    "predictions_reg1 = pd.Series(model1.predict(X_1_test))\n",
    "target_reg1 = y_1_test.reset_index(drop=True)\n",
    "\n",
    "\n",
    "print(f'''\n",
    "R2={r2_score(y_1_test,predictions_reg1)}\n",
    "RMSE={(mean_squared_error(y_1_test,predictions_reg1))**0.5}\n",
    "''')"
   ]
  },
  {
   "cell_type": "markdown",
   "id": "bb84c4a3-712a-49e0-b6bf-83b51f55789d",
   "metadata": {},
   "source": [
    "## Регион 2"
   ]
  },
  {
   "cell_type": "code",
   "execution_count": 197,
   "id": "dc7d95dc-a5e2-4c52-afaa-03457ec08038",
   "metadata": {
    "tags": []
   },
   "outputs": [
    {
     "name": "stdout",
     "output_type": "stream",
     "text": [
      "(75000, 3)\n",
      "(25000, 3)\n"
     ]
    }
   ],
   "source": [
    "X2 = borehole_2.drop(columns=['id','product'])\n",
    "y2 =  borehole_2['product']\n",
    "\n",
    "X_2_train, X_2_test, y_2_train, y_2_test = train_test_split(X2,y2, test_size = 0.25, random_state = RANDOM_STATE)\n",
    "\n",
    "print(X_2_train.shape)\n",
    "print(X_2_test.shape)"
   ]
  },
  {
   "cell_type": "code",
   "execution_count": 199,
   "id": "e2cb04a3-ffe9-4a22-aed3-1a9084e068bb",
   "metadata": {
    "tags": []
   },
   "outputs": [
    {
     "data": {
      "application/vnd.jupyter.widget-view+json": {
       "model_id": "babd0196973b4264a120de4e7841220d",
       "version_major": 2,
       "version_minor": 0
      },
      "text/plain": [
       "  0%|          | 0/11 [00:00<?, ?it/s]"
      ]
     },
     "metadata": {},
     "output_type": "display_data"
    },
    {
     "name": "stdout",
     "output_type": "stream",
     "text": [
      "Lasso          r2  alpha\n",
      "0  0.999625  0.001\n",
      "1  0.999625  0.010\n",
      "2  0.999623  0.100\n",
      "3  0.999579  0.500\n",
      "4  0.999450  1.000\n",
      "\n"
     ]
    },
    {
     "data": {
      "application/vnd.jupyter.widget-view+json": {
       "model_id": "9b269d4c9ef94f6098283fec1345fb0f",
       "version_major": 2,
       "version_minor": 0
      },
      "text/plain": [
       "  0%|          | 0/11 [00:00<?, ?it/s]"
      ]
     },
     "metadata": {},
     "output_type": "display_data"
    },
    {
     "name": "stdout",
     "output_type": "stream",
     "text": [
      "Ridge          r2  alpha\n",
      "3  0.999625  0.500\n",
      "2  0.999625  0.100\n",
      "1  0.999625  0.010\n",
      "0  0.999625  0.001\n",
      "4  0.999625  1.000\n",
      "\n",
      "Linear          r2    model\n",
      "0  0.999625  lin_reg\n"
     ]
    }
   ],
   "source": [
    "df_res_2 = lasso_learning(X_2_train,y_2_train)\n",
    "\n",
    "print(f'''Lasso {df_res_2.sort_values(by = 'r2', ascending = False).head()}''')\n",
    "\n",
    "print()\n",
    "\n",
    "df_res_2_ridge = ridge_learning(X_2_train,y_2_train)\n",
    "\n",
    "print(f'''Ridge {df_res_2_ridge.sort_values(by = 'r2', ascending = False).head()}''')\n",
    "\n",
    "print()\n",
    "\n",
    "df_res_2_linear = linear_learning(X_2_train,y_2_train)\n",
    "\n",
    "print(f'''Linear {df_res_2_linear.head()}''')\n"
   ]
  },
  {
   "cell_type": "markdown",
   "id": "d5227fa0-6818-4e64-986d-8469f1961935",
   "metadata": {},
   "source": [
    "Выберем для обучения так же обычную линейную регрессию "
   ]
  },
  {
   "cell_type": "code",
   "execution_count": 200,
   "id": "e77ddce0-8b77-4477-b9f4-7fccf688985a",
   "metadata": {
    "tags": []
   },
   "outputs": [
    {
     "data": {
      "text/html": [
       "<style>#sk-container-id-2 {color: black;}#sk-container-id-2 pre{padding: 0;}#sk-container-id-2 div.sk-toggleable {background-color: white;}#sk-container-id-2 label.sk-toggleable__label {cursor: pointer;display: block;width: 100%;margin-bottom: 0;padding: 0.3em;box-sizing: border-box;text-align: center;}#sk-container-id-2 label.sk-toggleable__label-arrow:before {content: \"▸\";float: left;margin-right: 0.25em;color: #696969;}#sk-container-id-2 label.sk-toggleable__label-arrow:hover:before {color: black;}#sk-container-id-2 div.sk-estimator:hover label.sk-toggleable__label-arrow:before {color: black;}#sk-container-id-2 div.sk-toggleable__content {max-height: 0;max-width: 0;overflow: hidden;text-align: left;background-color: #f0f8ff;}#sk-container-id-2 div.sk-toggleable__content pre {margin: 0.2em;color: black;border-radius: 0.25em;background-color: #f0f8ff;}#sk-container-id-2 input.sk-toggleable__control:checked~div.sk-toggleable__content {max-height: 200px;max-width: 100%;overflow: auto;}#sk-container-id-2 input.sk-toggleable__control:checked~label.sk-toggleable__label-arrow:before {content: \"▾\";}#sk-container-id-2 div.sk-estimator input.sk-toggleable__control:checked~label.sk-toggleable__label {background-color: #d4ebff;}#sk-container-id-2 div.sk-label input.sk-toggleable__control:checked~label.sk-toggleable__label {background-color: #d4ebff;}#sk-container-id-2 input.sk-hidden--visually {border: 0;clip: rect(1px 1px 1px 1px);clip: rect(1px, 1px, 1px, 1px);height: 1px;margin: -1px;overflow: hidden;padding: 0;position: absolute;width: 1px;}#sk-container-id-2 div.sk-estimator {font-family: monospace;background-color: #f0f8ff;border: 1px dotted black;border-radius: 0.25em;box-sizing: border-box;margin-bottom: 0.5em;}#sk-container-id-2 div.sk-estimator:hover {background-color: #d4ebff;}#sk-container-id-2 div.sk-parallel-item::after {content: \"\";width: 100%;border-bottom: 1px solid gray;flex-grow: 1;}#sk-container-id-2 div.sk-label:hover label.sk-toggleable__label {background-color: #d4ebff;}#sk-container-id-2 div.sk-serial::before {content: \"\";position: absolute;border-left: 1px solid gray;box-sizing: border-box;top: 0;bottom: 0;left: 50%;z-index: 0;}#sk-container-id-2 div.sk-serial {display: flex;flex-direction: column;align-items: center;background-color: white;padding-right: 0.2em;padding-left: 0.2em;position: relative;}#sk-container-id-2 div.sk-item {position: relative;z-index: 1;}#sk-container-id-2 div.sk-parallel {display: flex;align-items: stretch;justify-content: center;background-color: white;position: relative;}#sk-container-id-2 div.sk-item::before, #sk-container-id-2 div.sk-parallel-item::before {content: \"\";position: absolute;border-left: 1px solid gray;box-sizing: border-box;top: 0;bottom: 0;left: 50%;z-index: -1;}#sk-container-id-2 div.sk-parallel-item {display: flex;flex-direction: column;z-index: 1;position: relative;background-color: white;}#sk-container-id-2 div.sk-parallel-item:first-child::after {align-self: flex-end;width: 50%;}#sk-container-id-2 div.sk-parallel-item:last-child::after {align-self: flex-start;width: 50%;}#sk-container-id-2 div.sk-parallel-item:only-child::after {width: 0;}#sk-container-id-2 div.sk-dashed-wrapped {border: 1px dashed gray;margin: 0 0.4em 0.5em 0.4em;box-sizing: border-box;padding-bottom: 0.4em;background-color: white;}#sk-container-id-2 div.sk-label label {font-family: monospace;font-weight: bold;display: inline-block;line-height: 1.2em;}#sk-container-id-2 div.sk-label-container {text-align: center;}#sk-container-id-2 div.sk-container {/* jupyter's `normalize.less` sets `[hidden] { display: none; }` but bootstrap.min.css set `[hidden] { display: none !important; }` so we also need the `!important` here to be able to override the default hidden behavior on the sphinx rendered scikit-learn.org. See: https://github.com/scikit-learn/scikit-learn/issues/21755 */display: inline-block !important;position: relative;}#sk-container-id-2 div.sk-text-repr-fallback {display: none;}</style><div id=\"sk-container-id-2\" class=\"sk-top-container\"><div class=\"sk-text-repr-fallback\"><pre>LinearRegression()</pre><b>In a Jupyter environment, please rerun this cell to show the HTML representation or trust the notebook. <br />On GitHub, the HTML representation is unable to render, please try loading this page with nbviewer.org.</b></div><div class=\"sk-container\" hidden><div class=\"sk-item\"><div class=\"sk-estimator sk-toggleable\"><input class=\"sk-toggleable__control sk-hidden--visually\" id=\"sk-estimator-id-2\" type=\"checkbox\" checked><label for=\"sk-estimator-id-2\" class=\"sk-toggleable__label sk-toggleable__label-arrow\">LinearRegression</label><div class=\"sk-toggleable__content\"><pre>LinearRegression()</pre></div></div></div></div></div>"
      ],
      "text/plain": [
       "LinearRegression()"
      ]
     },
     "execution_count": 200,
     "metadata": {},
     "output_type": "execute_result"
    }
   ],
   "source": [
    "model2= LinearRegression()\n",
    "\n",
    "model2.fit(X_2_train,y_2_train)"
   ]
  },
  {
   "cell_type": "markdown",
   "id": "434c92ef-79c3-4ab5-bb6b-e8f264608717",
   "metadata": {},
   "source": [
    "### Тестируем на валидационной выборке "
   ]
  },
  {
   "cell_type": "code",
   "execution_count": 369,
   "id": "1306e3ee-dd1f-4098-ae0c-f6eb45aabbd0",
   "metadata": {
    "tags": []
   },
   "outputs": [
    {
     "name": "stdout",
     "output_type": "stream",
     "text": [
      "\n",
      "R2=0.9996233978805127\n",
      "RMSE=0.8930992867756165\n",
      "\n"
     ]
    }
   ],
   "source": [
    "predictions_reg2 = pd.Series(model2.predict(X_2_test))\n",
    "target_reg2 = y_2_test.reset_index(drop=True)\n",
    "\n",
    "\n",
    "print(f'''\n",
    "R2={r2_score(y_2_test,predictions_reg2)}\n",
    "RMSE={(mean_squared_error(y_2_test,predictions_reg2))**0.5}\n",
    "''')"
   ]
  },
  {
   "cell_type": "markdown",
   "id": "2c1e0ed6-5832-4210-9e15-fb5b95ee0f94",
   "metadata": {},
   "source": [
    "Очень хороший результат, который говорит о четкой линейной зависимости"
   ]
  },
  {
   "cell_type": "markdown",
   "id": "a3b3b137-4e50-4462-8122-8fd34102ec96",
   "metadata": {},
   "source": [
    "## Регион 3"
   ]
  },
  {
   "cell_type": "code",
   "execution_count": 202,
   "id": "253727ad-2fbb-4818-aeb0-e89e661892d1",
   "metadata": {
    "tags": []
   },
   "outputs": [
    {
     "name": "stdout",
     "output_type": "stream",
     "text": [
      "(75000, 3)\n",
      "(25000, 3)\n"
     ]
    }
   ],
   "source": [
    "X3 = borehole_3.drop(columns=['id','product'])\n",
    "y3 =  borehole_3['product']\n",
    "\n",
    "X_3_train, X_3_test, y_3_train, y_3_test = train_test_split(X3,y3, test_size = 0.25, random_state = RANDOM_STATE)\n",
    "\n",
    "print(X_3_train.shape)\n",
    "print(X_3_test.shape)"
   ]
  },
  {
   "cell_type": "code",
   "execution_count": 203,
   "id": "25b5617f-db67-493a-affe-eadaece0ec43",
   "metadata": {
    "tags": []
   },
   "outputs": [
    {
     "data": {
      "application/vnd.jupyter.widget-view+json": {
       "model_id": "0448da6f1c854677b0c1ef80f2bbc7e8",
       "version_major": 2,
       "version_minor": 0
      },
      "text/plain": [
       "  0%|          | 0/11 [00:00<?, ?it/s]"
      ]
     },
     "metadata": {},
     "output_type": "display_data"
    },
    {
     "name": "stdout",
     "output_type": "stream",
     "text": [
      "Lasso          r2  alpha\n",
      "3  0.196494  0.500\n",
      "2  0.196486  0.100\n",
      "0  0.196482  0.001\n",
      "1  0.196482  0.010\n",
      "4  0.196463  1.000\n",
      "\n"
     ]
    },
    {
     "data": {
      "application/vnd.jupyter.widget-view+json": {
       "model_id": "3a6ff46226bb48018b481a6821acd5ce",
       "version_major": 2,
       "version_minor": 0
      },
      "text/plain": [
       "  0%|          | 0/11 [00:00<?, ?it/s]"
      ]
     },
     "metadata": {},
     "output_type": "display_data"
    },
    {
     "name": "stdout",
     "output_type": "stream",
     "text": [
      "Ridge           r2  alpha\n",
      "10  0.196482   10.0\n",
      "9   0.196482    7.0\n",
      "8   0.196482    5.0\n",
      "7   0.196482    4.0\n",
      "6   0.196482    2.0\n",
      "\n",
      "Linear          r2    model\n",
      "0  0.196482  lin_reg\n"
     ]
    }
   ],
   "source": [
    "df_res_3 = lasso_learning(X_3_train,y_3_train)\n",
    "\n",
    "print(f'''Lasso {df_res_3.sort_values(by = 'r2', ascending = False).head()}''')\n",
    "\n",
    "print()\n",
    "\n",
    "df_res_3_ridge = ridge_learning(X_3_train,y_3_train)\n",
    "\n",
    "print(f'''Ridge {df_res_3_ridge.sort_values(by = 'r2', ascending = False).head()}''')\n",
    "\n",
    "print()\n",
    "\n",
    "df_res_3_linear = linear_learning(X_3_train,y_3_train)\n",
    "\n",
    "print(f'''Linear {df_res_3_linear.head()}''')\n"
   ]
  },
  {
   "cell_type": "markdown",
   "id": "7f6fb494-f3fb-4f1f-989b-5ab1f282973b",
   "metadata": {},
   "source": [
    "В данном случае чуть лучший результат показал Lasso с alpha = 0.5"
   ]
  },
  {
   "cell_type": "code",
   "execution_count": 204,
   "id": "dd78b9ec-6b4b-4195-951d-74fc14f59158",
   "metadata": {
    "tags": []
   },
   "outputs": [
    {
     "data": {
      "text/html": [
       "<style>#sk-container-id-3 {color: black;}#sk-container-id-3 pre{padding: 0;}#sk-container-id-3 div.sk-toggleable {background-color: white;}#sk-container-id-3 label.sk-toggleable__label {cursor: pointer;display: block;width: 100%;margin-bottom: 0;padding: 0.3em;box-sizing: border-box;text-align: center;}#sk-container-id-3 label.sk-toggleable__label-arrow:before {content: \"▸\";float: left;margin-right: 0.25em;color: #696969;}#sk-container-id-3 label.sk-toggleable__label-arrow:hover:before {color: black;}#sk-container-id-3 div.sk-estimator:hover label.sk-toggleable__label-arrow:before {color: black;}#sk-container-id-3 div.sk-toggleable__content {max-height: 0;max-width: 0;overflow: hidden;text-align: left;background-color: #f0f8ff;}#sk-container-id-3 div.sk-toggleable__content pre {margin: 0.2em;color: black;border-radius: 0.25em;background-color: #f0f8ff;}#sk-container-id-3 input.sk-toggleable__control:checked~div.sk-toggleable__content {max-height: 200px;max-width: 100%;overflow: auto;}#sk-container-id-3 input.sk-toggleable__control:checked~label.sk-toggleable__label-arrow:before {content: \"▾\";}#sk-container-id-3 div.sk-estimator input.sk-toggleable__control:checked~label.sk-toggleable__label {background-color: #d4ebff;}#sk-container-id-3 div.sk-label input.sk-toggleable__control:checked~label.sk-toggleable__label {background-color: #d4ebff;}#sk-container-id-3 input.sk-hidden--visually {border: 0;clip: rect(1px 1px 1px 1px);clip: rect(1px, 1px, 1px, 1px);height: 1px;margin: -1px;overflow: hidden;padding: 0;position: absolute;width: 1px;}#sk-container-id-3 div.sk-estimator {font-family: monospace;background-color: #f0f8ff;border: 1px dotted black;border-radius: 0.25em;box-sizing: border-box;margin-bottom: 0.5em;}#sk-container-id-3 div.sk-estimator:hover {background-color: #d4ebff;}#sk-container-id-3 div.sk-parallel-item::after {content: \"\";width: 100%;border-bottom: 1px solid gray;flex-grow: 1;}#sk-container-id-3 div.sk-label:hover label.sk-toggleable__label {background-color: #d4ebff;}#sk-container-id-3 div.sk-serial::before {content: \"\";position: absolute;border-left: 1px solid gray;box-sizing: border-box;top: 0;bottom: 0;left: 50%;z-index: 0;}#sk-container-id-3 div.sk-serial {display: flex;flex-direction: column;align-items: center;background-color: white;padding-right: 0.2em;padding-left: 0.2em;position: relative;}#sk-container-id-3 div.sk-item {position: relative;z-index: 1;}#sk-container-id-3 div.sk-parallel {display: flex;align-items: stretch;justify-content: center;background-color: white;position: relative;}#sk-container-id-3 div.sk-item::before, #sk-container-id-3 div.sk-parallel-item::before {content: \"\";position: absolute;border-left: 1px solid gray;box-sizing: border-box;top: 0;bottom: 0;left: 50%;z-index: -1;}#sk-container-id-3 div.sk-parallel-item {display: flex;flex-direction: column;z-index: 1;position: relative;background-color: white;}#sk-container-id-3 div.sk-parallel-item:first-child::after {align-self: flex-end;width: 50%;}#sk-container-id-3 div.sk-parallel-item:last-child::after {align-self: flex-start;width: 50%;}#sk-container-id-3 div.sk-parallel-item:only-child::after {width: 0;}#sk-container-id-3 div.sk-dashed-wrapped {border: 1px dashed gray;margin: 0 0.4em 0.5em 0.4em;box-sizing: border-box;padding-bottom: 0.4em;background-color: white;}#sk-container-id-3 div.sk-label label {font-family: monospace;font-weight: bold;display: inline-block;line-height: 1.2em;}#sk-container-id-3 div.sk-label-container {text-align: center;}#sk-container-id-3 div.sk-container {/* jupyter's `normalize.less` sets `[hidden] { display: none; }` but bootstrap.min.css set `[hidden] { display: none !important; }` so we also need the `!important` here to be able to override the default hidden behavior on the sphinx rendered scikit-learn.org. See: https://github.com/scikit-learn/scikit-learn/issues/21755 */display: inline-block !important;position: relative;}#sk-container-id-3 div.sk-text-repr-fallback {display: none;}</style><div id=\"sk-container-id-3\" class=\"sk-top-container\"><div class=\"sk-text-repr-fallback\"><pre>Lasso(alpha=0.5, random_state=12345)</pre><b>In a Jupyter environment, please rerun this cell to show the HTML representation or trust the notebook. <br />On GitHub, the HTML representation is unable to render, please try loading this page with nbviewer.org.</b></div><div class=\"sk-container\" hidden><div class=\"sk-item\"><div class=\"sk-estimator sk-toggleable\"><input class=\"sk-toggleable__control sk-hidden--visually\" id=\"sk-estimator-id-3\" type=\"checkbox\" checked><label for=\"sk-estimator-id-3\" class=\"sk-toggleable__label sk-toggleable__label-arrow\">Lasso</label><div class=\"sk-toggleable__content\"><pre>Lasso(alpha=0.5, random_state=12345)</pre></div></div></div></div></div>"
      ],
      "text/plain": [
       "Lasso(alpha=0.5, random_state=12345)"
      ]
     },
     "execution_count": 204,
     "metadata": {},
     "output_type": "execute_result"
    }
   ],
   "source": [
    "model3= Lasso(random_state = RANDOM_STATE, alpha = 0.5)\n",
    "\n",
    "model3.fit(X_3_train,y_3_train)"
   ]
  },
  {
   "cell_type": "code",
   "execution_count": 205,
   "id": "3cf71f90-b562-4d3d-999d-10d7b0d6d952",
   "metadata": {
    "tags": []
   },
   "outputs": [
    {
     "data": {
      "text/html": [
       "<style>#sk-container-id-4 {color: black;}#sk-container-id-4 pre{padding: 0;}#sk-container-id-4 div.sk-toggleable {background-color: white;}#sk-container-id-4 label.sk-toggleable__label {cursor: pointer;display: block;width: 100%;margin-bottom: 0;padding: 0.3em;box-sizing: border-box;text-align: center;}#sk-container-id-4 label.sk-toggleable__label-arrow:before {content: \"▸\";float: left;margin-right: 0.25em;color: #696969;}#sk-container-id-4 label.sk-toggleable__label-arrow:hover:before {color: black;}#sk-container-id-4 div.sk-estimator:hover label.sk-toggleable__label-arrow:before {color: black;}#sk-container-id-4 div.sk-toggleable__content {max-height: 0;max-width: 0;overflow: hidden;text-align: left;background-color: #f0f8ff;}#sk-container-id-4 div.sk-toggleable__content pre {margin: 0.2em;color: black;border-radius: 0.25em;background-color: #f0f8ff;}#sk-container-id-4 input.sk-toggleable__control:checked~div.sk-toggleable__content {max-height: 200px;max-width: 100%;overflow: auto;}#sk-container-id-4 input.sk-toggleable__control:checked~label.sk-toggleable__label-arrow:before {content: \"▾\";}#sk-container-id-4 div.sk-estimator input.sk-toggleable__control:checked~label.sk-toggleable__label {background-color: #d4ebff;}#sk-container-id-4 div.sk-label input.sk-toggleable__control:checked~label.sk-toggleable__label {background-color: #d4ebff;}#sk-container-id-4 input.sk-hidden--visually {border: 0;clip: rect(1px 1px 1px 1px);clip: rect(1px, 1px, 1px, 1px);height: 1px;margin: -1px;overflow: hidden;padding: 0;position: absolute;width: 1px;}#sk-container-id-4 div.sk-estimator {font-family: monospace;background-color: #f0f8ff;border: 1px dotted black;border-radius: 0.25em;box-sizing: border-box;margin-bottom: 0.5em;}#sk-container-id-4 div.sk-estimator:hover {background-color: #d4ebff;}#sk-container-id-4 div.sk-parallel-item::after {content: \"\";width: 100%;border-bottom: 1px solid gray;flex-grow: 1;}#sk-container-id-4 div.sk-label:hover label.sk-toggleable__label {background-color: #d4ebff;}#sk-container-id-4 div.sk-serial::before {content: \"\";position: absolute;border-left: 1px solid gray;box-sizing: border-box;top: 0;bottom: 0;left: 50%;z-index: 0;}#sk-container-id-4 div.sk-serial {display: flex;flex-direction: column;align-items: center;background-color: white;padding-right: 0.2em;padding-left: 0.2em;position: relative;}#sk-container-id-4 div.sk-item {position: relative;z-index: 1;}#sk-container-id-4 div.sk-parallel {display: flex;align-items: stretch;justify-content: center;background-color: white;position: relative;}#sk-container-id-4 div.sk-item::before, #sk-container-id-4 div.sk-parallel-item::before {content: \"\";position: absolute;border-left: 1px solid gray;box-sizing: border-box;top: 0;bottom: 0;left: 50%;z-index: -1;}#sk-container-id-4 div.sk-parallel-item {display: flex;flex-direction: column;z-index: 1;position: relative;background-color: white;}#sk-container-id-4 div.sk-parallel-item:first-child::after {align-self: flex-end;width: 50%;}#sk-container-id-4 div.sk-parallel-item:last-child::after {align-self: flex-start;width: 50%;}#sk-container-id-4 div.sk-parallel-item:only-child::after {width: 0;}#sk-container-id-4 div.sk-dashed-wrapped {border: 1px dashed gray;margin: 0 0.4em 0.5em 0.4em;box-sizing: border-box;padding-bottom: 0.4em;background-color: white;}#sk-container-id-4 div.sk-label label {font-family: monospace;font-weight: bold;display: inline-block;line-height: 1.2em;}#sk-container-id-4 div.sk-label-container {text-align: center;}#sk-container-id-4 div.sk-container {/* jupyter's `normalize.less` sets `[hidden] { display: none; }` but bootstrap.min.css set `[hidden] { display: none !important; }` so we also need the `!important` here to be able to override the default hidden behavior on the sphinx rendered scikit-learn.org. See: https://github.com/scikit-learn/scikit-learn/issues/21755 */display: inline-block !important;position: relative;}#sk-container-id-4 div.sk-text-repr-fallback {display: none;}</style><div id=\"sk-container-id-4\" class=\"sk-top-container\"><div class=\"sk-text-repr-fallback\"><pre>LinearRegression()</pre><b>In a Jupyter environment, please rerun this cell to show the HTML representation or trust the notebook. <br />On GitHub, the HTML representation is unable to render, please try loading this page with nbviewer.org.</b></div><div class=\"sk-container\" hidden><div class=\"sk-item\"><div class=\"sk-estimator sk-toggleable\"><input class=\"sk-toggleable__control sk-hidden--visually\" id=\"sk-estimator-id-4\" type=\"checkbox\" checked><label for=\"sk-estimator-id-4\" class=\"sk-toggleable__label sk-toggleable__label-arrow\">LinearRegression</label><div class=\"sk-toggleable__content\"><pre>LinearRegression()</pre></div></div></div></div></div>"
      ],
      "text/plain": [
       "LinearRegression()"
      ]
     },
     "execution_count": 205,
     "metadata": {},
     "output_type": "execute_result"
    }
   ],
   "source": [
    "model3_lin= LinearRegression()\n",
    "\n",
    "model3_lin.fit(X_3_train,y_3_train)"
   ]
  },
  {
   "cell_type": "markdown",
   "id": "b75c5567-f034-4cc2-ab32-731f6677c434",
   "metadata": {},
   "source": [
    "### Текстируем на валидационной выборке"
   ]
  },
  {
   "cell_type": "code",
   "execution_count": 370,
   "id": "5c5c3b9d-514d-42db-8410-f2277c077167",
   "metadata": {
    "tags": []
   },
   "outputs": [
    {
     "name": "stdout",
     "output_type": "stream",
     "text": [
      "\n",
      "R2=0.20519397731273958\n",
      "RMSE=40.03105872561861\n",
      "\n"
     ]
    }
   ],
   "source": [
    "predictions_reg3 = pd.Series(model3.predict(X_3_test))\n",
    "target_reg3 = y_3_test.reset_index(drop=True)\n",
    "\n",
    "\n",
    "print(f'''\n",
    "R2={r2_score(y_3_test,predictions_reg3)}\n",
    "RMSE={(mean_squared_error(y_3_test,predictions_reg3))**0.5}\n",
    "''')"
   ]
  },
  {
   "cell_type": "code",
   "execution_count": 207,
   "id": "e6d522ac-98a3-45ac-aff7-aeb3d80508b1",
   "metadata": {
    "tags": []
   },
   "outputs": [
    {
     "name": "stdout",
     "output_type": "stream",
     "text": [
      "\n",
      "R2=0.20524758386040443\n",
      "RMSE=40.02970873393434\n",
      "\n"
     ]
    }
   ],
   "source": [
    "predictions_reg3_lin = model3_lin.predict(X_3_test)\n",
    "\n",
    "print(f'''\n",
    "R2={r2_score(y_3_test,predictions_reg3_lin)}\n",
    "RMSE={(mean_squared_error(y_3_test,predictions_reg3_lin))**0.5}\n",
    "''')"
   ]
  },
  {
   "cell_type": "markdown",
   "id": "a69da248-2cb6-45e8-8718-049aeae2b83a",
   "metadata": {},
   "source": [
    "Оставим обычную линейную регрессию т.к. качество модели на валиадционной выборке немного выше."
   ]
  },
  {
   "cell_type": "markdown",
   "id": "b8a6265e-4348-4c14-8e47-c8e15077b898",
   "metadata": {},
   "source": [
    "## Средний предсказанный запас сырья и RMSE модели"
   ]
  },
  {
   "cell_type": "code",
   "execution_count": 371,
   "id": "650c582f-96e1-4dca-b4a8-78d75c5e9744",
   "metadata": {
    "tags": []
   },
   "outputs": [
    {
     "name": "stdout",
     "output_type": "stream",
     "text": [
      "\n",
      "Модель 1\n",
      "\n",
      "Средний предсказанный запас сырья: 92.59256778438038\n",
      "RMSE:37.5794217150813\n",
      "\n"
     ]
    }
   ],
   "source": [
    "print(f'''\n",
    "Модель 1\n",
    "\n",
    "Средний предсказанный запас сырья: {predictions_reg1.mean()}\n",
    "RMSE:{(mean_squared_error(y_1_test,predictions_reg1))**0.5}\n",
    "''')"
   ]
  },
  {
   "cell_type": "code",
   "execution_count": 372,
   "id": "a3a0702c-1185-4c29-bc3e-069914b90fa9",
   "metadata": {
    "tags": []
   },
   "outputs": [
    {
     "name": "stdout",
     "output_type": "stream",
     "text": [
      "\n",
      "Модель 2\n",
      "\n",
      "Средний предсказанный запас сырья: 68.728546895446\n",
      "RMSE:0.8930992867756165\n",
      "\n"
     ]
    }
   ],
   "source": [
    "print(f'''\n",
    "Модель 2\n",
    "\n",
    "Средний предсказанный запас сырья: {predictions_reg2.mean()}\n",
    "RMSE:{(mean_squared_error(y_2_test,predictions_reg2))**0.5}\n",
    "''')"
   ]
  },
  {
   "cell_type": "code",
   "execution_count": 373,
   "id": "eeaa7771-c186-4d3a-ad84-db5d3c21c31e",
   "metadata": {
    "tags": []
   },
   "outputs": [
    {
     "name": "stdout",
     "output_type": "stream",
     "text": [
      "\n",
      "Модель 3\n",
      "\n",
      "Средний предсказанный запас сырья: 94.96638098614947\n",
      "RMSE:40.03105872561861\n",
      "\n"
     ]
    }
   ],
   "source": [
    "print(f'''\n",
    "Модель 3\n",
    "\n",
    "Средний предсказанный запас сырья: {predictions_reg3.mean()}\n",
    "RMSE:{(mean_squared_error(y_3_test,predictions_reg3))**0.5}\n",
    "''')"
   ]
  },
  {
   "cell_type": "markdown",
   "id": "efa69a24-c549-40ee-a3cb-62c7b3ff0e8a",
   "metadata": {},
   "source": [
    "Модель 2 показывает отличный результат, тогда как rmse в модели 1 и 3 почти 50% от среднего, что дает не очень внушительный результат. "
   ]
  },
  {
   "cell_type": "markdown",
   "id": "690ca321-19ef-4f91-9593-c64285975854",
   "metadata": {},
   "source": [
    "# Расчет прибыли"
   ]
  },
  {
   "cell_type": "code",
   "execution_count": 374,
   "id": "c4ae54da-fee4-4668-b0fc-2782f2908496",
   "metadata": {
    "tags": []
   },
   "outputs": [],
   "source": [
    "borehole_create = 10000000000 # затраты на разработку скважин\n",
    "\n",
    "barrel = 450000 #доход с одной тысчи баррелей \n",
    "\n",
    "borehole=200#количество скважин в регионе для разработки"
   ]
  },
  {
   "cell_type": "code",
   "execution_count": 375,
   "id": "b622645f-d51e-4632-ac63-c4f9ed022bdb",
   "metadata": {
    "tags": []
   },
   "outputs": [],
   "source": [
    "needed_for_a_region = (borehole_create/barrel)/borehole#необходимая сумма продукта для одного региона, чтобы не уйти в минус"
   ]
  },
  {
   "cell_type": "code",
   "execution_count": 376,
   "id": "1bf641ee-d161-4b08-a5fb-274f972258c5",
   "metadata": {
    "tags": []
   },
   "outputs": [
    {
     "data": {
      "text/plain": [
       "111.11111111111111"
      ]
     },
     "execution_count": 376,
     "metadata": {},
     "output_type": "execute_result"
    }
   ],
   "source": [
    "needed_for_a_region#более такой суммы нужно в среднем для каждой скважины, чтобы не уйти в минус при ее разраотке "
   ]
  },
  {
   "cell_type": "code",
   "execution_count": 377,
   "id": "93a5a2ee-e5ea-46cd-9747-2bd53ba4f620",
   "metadata": {
    "tags": []
   },
   "outputs": [
    {
     "data": {
      "text/plain": [
       "92.50000000000001"
      ]
     },
     "execution_count": 377,
     "metadata": {},
     "output_type": "execute_result"
    }
   ],
   "source": [
    "borehole_1['product'].mean()"
   ]
  },
  {
   "cell_type": "code",
   "execution_count": 378,
   "id": "db761b78-7444-4ae3-b2fc-65e954b0541e",
   "metadata": {
    "tags": []
   },
   "outputs": [
    {
     "data": {
      "text/plain": [
       "68.82500000000002"
      ]
     },
     "execution_count": 378,
     "metadata": {},
     "output_type": "execute_result"
    }
   ],
   "source": [
    "borehole_2['product'].mean()"
   ]
  },
  {
   "cell_type": "code",
   "execution_count": 379,
   "id": "03fff123-0d85-40fc-b584-cd00b71c3fd3",
   "metadata": {
    "tags": []
   },
   "outputs": [
    {
     "data": {
      "text/plain": [
       "95.00000000000004"
      ]
     },
     "execution_count": 379,
     "metadata": {},
     "output_type": "execute_result"
    }
   ],
   "source": [
    "borehole_3['product'].mean()"
   ]
  },
  {
   "cell_type": "markdown",
   "id": "14c7537a-f950-4aa7-a0b7-72b3f55281de",
   "metadata": {},
   "source": [
    "Выделяемы бюджет на разработку 200 скважин выйдет в 0, если в среднем каждая скважина принесет по 111 единиц баррелей. Это больше, чем средние значения, следовательно эти 200 скважин должны быть хорошо подобраны моделью. "
   ]
  },
  {
   "cell_type": "markdown",
   "id": "9b852c36-a071-4d2e-a6f7-5b05d2d930de",
   "metadata": {},
   "source": [
    "\n",
    "При разведке региона исследуют 500 точек, из которых с помощью машинного обучения выбирают 200 лучших для разработки."
   ]
  },
  {
   "cell_type": "markdown",
   "id": "3aebf479-6489-4128-8a6b-b8dd85e64d02",
   "metadata": {},
   "source": [
    "# Функция для расчета прибыли по выбранным скважинам и предсказаниям модели"
   ]
  },
  {
   "cell_type": "code",
   "execution_count": 395,
   "id": "ae7480a9-b0c8-475a-a4dc-09d41f8576f4",
   "metadata": {
    "tags": []
   },
   "outputs": [],
   "source": [
    "def main(predictions,target,n):\n",
    "    sort_list = predictions.sort_values(ascending = False)\n",
    "    max_predictions = sort_list[:n]\n",
    "    predictions_sum = sum(target[max_predictions.index])\n",
    "    \n",
    "    return (predictions_sum*450000)-10000000000"
   ]
  },
  {
   "cell_type": "markdown",
   "id": "b64b8252-d156-4596-bcfa-fea5cfe5fc8a",
   "metadata": {},
   "source": [
    "# Риски и прибыль для каждого региона - 95% доверительный интервал методом бутстрепа"
   ]
  },
  {
   "cell_type": "markdown",
   "id": "74bf05e8-576a-4822-9e0e-79caf3121b93",
   "metadata": {},
   "source": [
    "# Регион 1"
   ]
  },
  {
   "cell_type": "code",
   "execution_count": 400,
   "id": "7a5327d6-36eb-44c1-b2cf-1795efd94cba",
   "metadata": {
    "tags": []
   },
   "outputs": [],
   "source": [
    "values1 = [] \n",
    "state = np.random.RandomState(12345)\n",
    "\n",
    "for i in range(1000):\n",
    "    sample = predictions_reg1.sample(n=500, replace=True, random_state= state)\n",
    "    value = main(sample, target_reg1, 200)\n",
    "    \n",
    "    values1.append(value)\n",
    "    \n",
    "values1 = pd.Series(values1)"
   ]
  },
  {
   "cell_type": "code",
   "execution_count": 401,
   "id": "6078d442-924b-4334-9b98-25237a8d5ad9",
   "metadata": {
    "tags": []
   },
   "outputs": [],
   "source": [
    "mean = values1.mean()\n",
    "lower = values1.quantile(0.025)\n",
    "upper = values1.quantile(0.975)"
   ]
  },
  {
   "cell_type": "code",
   "execution_count": 405,
   "id": "2413a116-d64e-4814-aa70-abb861e4bca9",
   "metadata": {
    "tags": []
   },
   "outputs": [
    {
     "data": {
      "text/plain": [
       "6.9"
      ]
     },
     "execution_count": 405,
     "metadata": {},
     "output_type": "execute_result"
    }
   ],
   "source": [
    "(sum((values1<0).astype(int))/len(values1))*100 #процент убытков"
   ]
  },
  {
   "cell_type": "code",
   "execution_count": 403,
   "id": "efdf39bb-7d00-4ef1-ba67-07c5eb64c87e",
   "metadata": {
    "tags": []
   },
   "outputs": [
    {
     "name": "stdout",
     "output_type": "stream",
     "text": [
      "\n",
      "Средняя прибыль для региона 1: 396164984.80237156\n",
      "95% доверительный интервал от -111215545.89049521 до 909766941.5534207\n",
      "\n"
     ]
    }
   ],
   "source": [
    "print(f'''\n",
    "Средняя прибыль для региона 1: {mean}\n",
    "95% доверительный интервал от {lower} до {upper}\n",
    "''')"
   ]
  },
  {
   "cell_type": "markdown",
   "id": "3d79875d-ccf0-4bc6-893c-84227489e6a9",
   "metadata": {},
   "source": [
    "# Регион 2"
   ]
  },
  {
   "cell_type": "code",
   "execution_count": 406,
   "id": "b341f5d0-96ce-40b4-af26-eb21c8259088",
   "metadata": {
    "tags": []
   },
   "outputs": [],
   "source": [
    "values1 = [] \n",
    "state = np.random.RandomState(12345)\n",
    "\n",
    "for i in range(1000):\n",
    "    sample = pd.Series(predictions_reg2).sample(n=500, replace=True, random_state= state)\n",
    "    value = main(sample,target_reg2, 200)\n",
    "    \n",
    "    values1.append(value)\n",
    "    \n",
    "values1 = pd.Series(values1)"
   ]
  },
  {
   "cell_type": "code",
   "execution_count": 407,
   "id": "642f5113-5a7d-425c-a9f1-95d3afcf43fd",
   "metadata": {
    "tags": []
   },
   "outputs": [],
   "source": [
    "mean = values1.mean()\n",
    "lower = values1.quantile(0.025)\n",
    "upper = values1.quantile(0.975)"
   ]
  },
  {
   "cell_type": "code",
   "execution_count": 408,
   "id": "95e9efbc-5ae2-40dd-be4b-ff7142130842",
   "metadata": {
    "tags": []
   },
   "outputs": [
    {
     "data": {
      "text/plain": [
       "1.5"
      ]
     },
     "execution_count": 408,
     "metadata": {},
     "output_type": "execute_result"
    }
   ],
   "source": [
    "(sum((values1<0).astype(int))/len(values1))*100 #процент убытков"
   ]
  },
  {
   "cell_type": "code",
   "execution_count": 409,
   "id": "e3a8d454-6a00-4f26-8967-43af789ebe38",
   "metadata": {
    "tags": []
   },
   "outputs": [
    {
     "name": "stdout",
     "output_type": "stream",
     "text": [
      "\n",
      "Средняя прибыль для региона 2: 456045105.7866825\n",
      "95% доверительный интервал от 33820509.3990007 до 852289453.8660609\n",
      "\n"
     ]
    }
   ],
   "source": [
    "print(f'''\n",
    "Средняя прибыль для региона 2: {mean}\n",
    "95% доверительный интервал от {lower} до {upper}\n",
    "''')"
   ]
  },
  {
   "cell_type": "markdown",
   "id": "ad2be5ae-6a9c-4581-a9e2-f021f3de6911",
   "metadata": {},
   "source": [
    "# Регион 3"
   ]
  },
  {
   "cell_type": "code",
   "execution_count": 410,
   "id": "db6b29e3-f3d1-4bd6-a0ec-9c569840f926",
   "metadata": {
    "tags": []
   },
   "outputs": [],
   "source": [
    "values1 = [] \n",
    "state = np.random.RandomState(12345)\n",
    "\n",
    "for i in range(1000):\n",
    "    sample = pd.Series(predictions_reg3).sample(n=500, replace=True, random_state= state)\n",
    "    value = main(sample, target_reg3,200)\n",
    "    \n",
    "    values1.append(value)\n",
    "    \n",
    "values1 = pd.Series(values1)"
   ]
  },
  {
   "cell_type": "code",
   "execution_count": 411,
   "id": "ef0ef7ce-c20e-40c0-b760-c8739e04c5da",
   "metadata": {
    "tags": []
   },
   "outputs": [],
   "source": [
    "mean = values1.mean()\n",
    "lower = values1.quantile(0.025)\n",
    "upper = values1.quantile(0.975)"
   ]
  },
  {
   "cell_type": "code",
   "execution_count": 412,
   "id": "507900e1-447d-41cb-b630-ad09ff53fbf4",
   "metadata": {
    "tags": []
   },
   "outputs": [
    {
     "data": {
      "text/plain": [
       "7.7"
      ]
     },
     "execution_count": 412,
     "metadata": {},
     "output_type": "execute_result"
    }
   ],
   "source": [
    "(sum((values1<0).astype(int))/len(values1))*100 #процент убытков"
   ]
  },
  {
   "cell_type": "code",
   "execution_count": 413,
   "id": "25efbf7f-897f-4761-bab4-c48e523163d7",
   "metadata": {
    "tags": []
   },
   "outputs": [
    {
     "name": "stdout",
     "output_type": "stream",
     "text": [
      "\n",
      "Средняя прибыль для региона 3: 404461810.1405316\n",
      "95% доверительный интервал от -165693883.08636633 до 947818113.8831341\n",
      "\n"
     ]
    }
   ],
   "source": [
    "print(f'''\n",
    "Средняя прибыль для региона 3: {mean}\n",
    "95% доверительный интервал от {lower} до {upper}\n",
    "''')"
   ]
  },
  {
   "cell_type": "markdown",
   "id": "f6d3eba1-08a7-47ef-b374-10b3b161fc70",
   "metadata": {},
   "source": [
    "# Вывод"
   ]
  },
  {
   "cell_type": "markdown",
   "id": "4356c6bc-882f-4b8c-9d11-197ddc15ad03",
   "metadata": {},
   "source": [
    "Только у второго региона вероятность убытков меньше 2.5%, поэтому выберем модель номер два. Средняя прибыль там наибольшая."
   ]
  },
  {
   "cell_type": "code",
   "execution_count": null,
   "id": "ade19834-a6fd-4108-b90f-a52a3036a235",
   "metadata": {},
   "outputs": [],
   "source": []
  }
 ],
 "metadata": {
  "kernelspec": {
   "display_name": "Python 3 (ipykernel)",
   "language": "python",
   "name": "python3"
  },
  "language_info": {
   "codemirror_mode": {
    "name": "ipython",
    "version": 3
   },
   "file_extension": ".py",
   "mimetype": "text/x-python",
   "name": "python",
   "nbconvert_exporter": "python",
   "pygments_lexer": "ipython3",
   "version": "3.11.5"
  }
 },
 "nbformat": 4,
 "nbformat_minor": 5
}
